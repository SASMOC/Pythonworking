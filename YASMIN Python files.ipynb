{
 "cells": [
  {
   "cell_type": "code",
   "execution_count": null,
   "id": "c827d65a",
   "metadata": {},
   "outputs": [],
   "source": [
    "# a:\n",
    "sum=0\n",
    "for i in range (1,101):\n",
    "    if i%2==0:\n",
    "        sum=sum + i\n",
    "print(sum)"
   ]
  },
  {
   "cell_type": "code",
   "execution_count": 29,
   "id": "475845d4",
   "metadata": {},
   "outputs": [
    {
     "name": "stdout",
     "output_type": "stream",
     "text": [
      "2550\n"
     ]
    }
   ],
   "source": [
    "# b\n",
    "sum=0\n",
    "for i in range (0,101):\n",
    "    if i%2==0:\n",
    "        sum=sum + i*1\n",
    "print(sum)\n",
    "\n"
   ]
  },
  {
   "cell_type": "code",
   "execution_count": 30,
   "id": "cfe00ef6",
   "metadata": {},
   "outputs": [
    {
     "ename": "KeyboardInterrupt",
     "evalue": "",
     "output_type": "error",
     "traceback": [
      "\u001b[1;31m---------------------------------------------------------------------------\u001b[0m",
      "\u001b[1;31mKeyboardInterrupt\u001b[0m                         Traceback (most recent call last)",
      "Cell \u001b[1;32mIn [30], line 3\u001b[0m\n\u001b[0;32m      1\u001b[0m \u001b[38;5;66;03m# c\u001b[39;00m\n\u001b[0;32m      2\u001b[0m value\u001b[38;5;241m=\u001b[39m\u001b[38;5;241m0\u001b[39m\n\u001b[1;32m----> 3\u001b[0m \u001b[38;5;28;01mwhile\u001b[39;00m value\u001b[38;5;241m<\u001b[39m\u001b[38;5;241m=\u001b[39m\u001b[38;5;241m220\u001b[39m:\n\u001b[0;32m      4\u001b[0m     \u001b[38;5;28;01mif\u001b[39;00m value\u001b[38;5;241m>\u001b[39m\u001b[38;5;241m20\u001b[39m:\n\u001b[0;32m      5\u001b[0m         \u001b[38;5;28msum\u001b[39m\u001b[38;5;241m=\u001b[39m\u001b[38;5;28msum\u001b[39m\u001b[38;5;241m+\u001b[39mvalue\n",
      "\u001b[1;31mKeyboardInterrupt\u001b[0m: "
     ]
    }
   ],
   "source": [
    "# c\n",
    "value=0\n",
    "while value<=220:\n",
    "    if value>20:\n",
    "        sum=sum+value\n",
    "        \n",
    "print(value)\n"
   ]
  },
  {
   "cell_type": "code",
   "execution_count": 4,
   "id": "043848ab",
   "metadata": {},
   "outputs": [
    {
     "data": {
      "text/plain": [
       "2.0"
      ]
     },
     "execution_count": 4,
     "metadata": {},
     "output_type": "execute_result"
    }
   ],
   "source": [
    "def average(x, y, z):\n",
    "    \n",
    "    return (x + y + z) / 3\n",
    "\n",
    "average(1,2,3)"
   ]
  },
  {
   "cell_type": "code",
   "execution_count": 10,
   "id": "878d4dcb",
   "metadata": {},
   "outputs": [],
   "source": [
    "def countVowels(word):\n",
    "    count = 0\n",
    "    for ch in word:\n",
    "        if ch.upper() in 'AEIOU':\n",
    "            count += 1\n",
    "    return count\n",
    "\n",
    "countVowels(\"Wonderful\")"
   ]
  },
  {
   "cell_type": "code",
   "execution_count": 13,
   "id": "106c8b51",
   "metadata": {},
   "outputs": [
    {
     "data": {
      "text/plain": [
       "4"
      ]
     },
     "execution_count": 13,
     "metadata": {},
     "output_type": "execute_result"
    }
   ],
   "source": [
    "countVowels(\"Eventually\")"
   ]
  },
  {
   "cell_type": "code",
   "execution_count": 15,
   "id": "3b67ec00",
   "metadata": {},
   "outputs": [
    {
     "ename": "SyntaxError",
     "evalue": "invalid syntax (3935472358.py, line 3)",
     "output_type": "error",
     "traceback": [
      "\u001b[1;36m  Cell \u001b[1;32mIn [15], line 3\u001b[1;36m\u001b[0m\n\u001b[1;33m    print(\"Weight in pounds: \", weight_in_lbs:'lbs')\u001b[0m\n\u001b[1;37m                                             ^\u001b[0m\n\u001b[1;31mSyntaxError\u001b[0m\u001b[1;31m:\u001b[0m invalid syntax\n"
     ]
    }
   ],
   "source": [
    "weight_in_kg = float(input(\"Enter weight in kilograms: \"))\n",
    "weight_in_lbs = weight_in_kg * 2.204\n",
    "print(\"Weight in pounds: \", weight_in_lbs:'lbs')"
   ]
  },
  {
   "cell_type": "code",
   "execution_count": 16,
   "id": "10e46b9a",
   "metadata": {},
   "outputs": [
    {
     "name": "stdout",
     "output_type": "stream",
     "text": [
      "Enter weight in kilograms: 10\n",
      "Weight in pounds: 22.040000000000003 lbs\n"
     ]
    }
   ],
   "source": [
    "weight_kg = float(input(\"Enter weight in kilograms: \"))\n",
    "weight_lbs = weight_kg * 2.204\n",
    "print(\"Weight in pounds: \" + str(weight_lbs) + \" lbs\")"
   ]
  },
  {
   "cell_type": "code",
   "execution_count": 18,
   "id": "4f85e028",
   "metadata": {},
   "outputs": [
    {
     "name": "stdout",
     "output_type": "stream",
     "text": [
      "20\n",
      "9.074410163339381 lbs\n"
     ]
    }
   ],
   "source": [
    "def kilo_to_pounds(kilos):\n",
    "    # This statement intentionally has an error. \n",
    "    return (kilos / 2.204)\n",
    "\n",
    "\n",
    "if __name__ == '__main__':\n",
    "    kilos = float(input())\n",
    "    \n",
    "    pounds = kilo_to_pounds(kilos)\n",
    "    print(pounds, \"lbs\")"
   ]
  },
  {
   "cell_type": "code",
   "execution_count": 19,
   "id": "364e221a",
   "metadata": {},
   "outputs": [
    {
     "name": "stdout",
     "output_type": "stream",
     "text": [
      "Enter number of laps: 7.6\n",
      "Number of miles: 1.90\n"
     ]
    }
   ],
   "source": [
    "def laps_to_miles(laps):\n",
    "    return laps * 0.25\n",
    "\n",
    "if __name__ == '__main__':\n",
    "    num_laps = float(input(\"Enter number of laps: \"))\n",
    "    miles = laps_to_miles(num_laps)\n",
    "    print(\"Number of miles: %.2f\" % miles)"
   ]
  },
  {
   "cell_type": "code",
   "execution_count": 20,
   "id": "9541a4c5",
   "metadata": {},
   "outputs": [
    {
     "name": "stdout",
     "output_type": "stream",
     "text": [
      "Enter the number of feet walked: 23\n",
      "Number of steps walked:  9\n"
     ]
    }
   ],
   "source": [
    "def feet_to_steps(feet):\n",
    "    return int(feet / 2.5)\n",
    "\n",
    "if __name__ == '__main__':\n",
    "    feet_walked = float(input(\"Enter the number of feet walked: \"))\n",
    "    steps_walked = feet_to_steps(feet_walked)\n",
    "    print(\"Number of steps walked: \", steps_walked)"
   ]
  },
  {
   "cell_type": "code",
   "execution_count": 23,
   "id": "4a93f891",
   "metadata": {},
   "outputs": [
    {
     "name": "stdout",
     "output_type": "stream",
     "text": [
      "Enter the number of feet walked: 150.5\n",
      "60\n"
     ]
    }
   ],
   "source": [
    "def feet_to_steps(feet):\n",
    "    return int(feet / 2.5)\n",
    "\n",
    "if __name__ == '__main__':\n",
    "    feet_walked = float(input(\"Enter the number of feet walked: \"))\n",
    "    steps_walked = feet_to_steps(feet_walked)\n",
    "    print(steps_walked)"
   ]
  },
  {
   "cell_type": "code",
   "execution_count": 24,
   "id": "ca485948",
   "metadata": {},
   "outputs": [],
   "source": [
    "def driving_cost(miles_per_gallon, dollars_per_gallon, miles_driven):\n",
    "    gallons_used = miles_driven / miles_per_gallon\n",
    "    cost = gallons_used * dollars_per_gallon\n",
    "    return round(cost, 2)\n",
    "\n",
    "\n",
    "\n",
    "\n"
   ]
  },
  {
   "cell_type": "code",
   "execution_count": 25,
   "id": "3d66b8c0",
   "metadata": {},
   "outputs": [
    {
     "data": {
      "text/plain": [
       "7.9"
      ]
     },
     "execution_count": 25,
     "metadata": {},
     "output_type": "execute_result"
    }
   ],
   "source": [
    "driving_cost(20,3.1599,50.0)"
   ]
  },
  {
   "cell_type": "code",
   "execution_count": 28,
   "id": "51dc1715",
   "metadata": {},
   "outputs": [
    {
     "name": "stdout",
     "output_type": "stream",
     "text": [
      "Enter the fuel efficiency in miles per gallon: 20\n",
      "Enter the cost of gasoline per gallon in dollars: 3.1599\n",
      "Enter the distance driven in miles: 50\n",
      " $7.90\n"
     ]
    }
   ],
   "source": [
    "def driving_cost(miles_per_gallon, dollars_per_gallon, miles_driven):\n",
    "    gallons_used = miles_driven / miles_per_gallon\n",
    "    cost = gallons_used * dollars_per_gallon\n",
    "    return round(cost, 2)\n",
    "\n",
    "if __name__ == '__main__':\n",
    "    miles_per_gallon = float(input(\"Enter the fuel efficiency in miles per gallon: \"))\n",
    "    dollars_per_gallon = float(input(\"Enter the cost of gasoline per gallon in dollars: \"))\n",
    "    miles_driven = float(input(\"Enter the distance driven in miles: \"))\n",
    "\n",
    "    cost = driving_cost(miles_per_gallon, dollars_per_gallon, miles_driven)\n",
    "\n",
    "    print(\" $%.2f\" % ( cost))\n"
   ]
  },
  {
   "cell_type": "code",
   "execution_count": 29,
   "id": "9cea9592",
   "metadata": {},
   "outputs": [],
   "source": [
    "from math import pi\n",
    "\n",
    "def sphere_volume(r):\n",
    "    volume = 4/3 * pi * r**3\n",
    "    return volume"
   ]
  },
  {
   "cell_type": "code",
   "execution_count": 30,
   "id": "0fdb12c0",
   "metadata": {},
   "outputs": [
    {
     "data": {
      "text/plain": [
       "229.84729611703878"
      ]
     },
     "execution_count": 30,
     "metadata": {},
     "output_type": "execute_result"
    }
   ],
   "source": [
    "sphere_volume(3.8)"
   ]
  },
  {
   "cell_type": "code",
   "execution_count": 38,
   "id": "af85d160",
   "metadata": {},
   "outputs": [
    {
     "name": "stdout",
     "output_type": "stream",
     "text": [
      "Enter the radius: 3.8\n",
      "A sphere has volume: 229.847\n",
      "The volume of sphere is 4/3 πr^3\n"
     ]
    }
   ],
   "source": [
    "from math import pi\n",
    "\n",
    "def sphere_volume(r):\n",
    "    volume = 4/3 * pi * r**3\n",
    "   \n",
    "    return volume\n",
    "\n",
    "def main():\n",
    "    r = float(input(\"Enter the radius: \"))\n",
    "    volume = sphere_volume(r)\n",
    "    print(\"A sphere has volume: %.3f\" % volume)\n",
    "\n",
    "if __name__ == \"__main__\":\n",
    "    main()\n",
    "    print(f\"The volume of sphere is 4/3 πr^3\")"
   ]
  },
  {
   "cell_type": "code",
   "execution_count": 39,
   "id": "78f7bde5",
   "metadata": {},
   "outputs": [
    {
     "name": "stdout",
     "output_type": "stream",
     "text": [
      "Enter a string: hello\n",
      "How many repetitions? 5\n",
      "Separated by? #\n",
      "hello#hello#hello#hello#hello\n"
     ]
    }
   ],
   "source": [
    "def repeat(string, n, delim):\n",
    "    \"\"\"\n",
    "    Returns a string that consists of `string` repeated `n` times,\n",
    "    separated by the delimiter `delim`.\n",
    "    \"\"\"\n",
    "    return delim.join([string] * n)\n",
    "# Get input from user\n",
    "string = input(\"Enter a string: \")\n",
    "n = int(input(\"How many repetitions? \"))\n",
    "delim = input(\"Separated by? \")\n",
    "\n",
    "# Call the `repeat` function and print the output\n",
    "output = repeat(string, n, delim)\n",
    "print(output)"
   ]
  },
  {
   "cell_type": "code",
   "execution_count": 43,
   "id": "065fad9b",
   "metadata": {},
   "outputs": [
    {
     "name": "stdout",
     "output_type": "stream",
     "text": [
      "Enter a number: 1729\n",
      "The number of digits in 1729 is 4\n",
      "The first digit of 1729 is 1\n"
     ]
    }
   ],
   "source": [
    "def digits(n):\n",
    "\n",
    "    return len(str(n))\n",
    "\n",
    "def firstDigit(n):\n",
    "\n",
    "    return int(str(n)[-0])\n",
    "\n",
    "def main():\n",
    "\n",
    "    n = int(input(\"Enter a number: \"))\n",
    "    num_digits = digits(n)\n",
    "    print(f\"The number of digits in {n} is {num_digits}\")\n",
    "\n",
    "    # Call the `firstDigit()` function and print the output\n",
    "    first_digit = firstDigit(n)\n",
    "    print(f\"The first digit of {n} is {first_digit}\")\n",
    "\n",
    "# Call the `main()` function to start the program\n",
    "main()\n",
    "\n"
   ]
  },
  {
   "cell_type": "code",
   "execution_count": 45,
   "id": "ae47f129",
   "metadata": {},
   "outputs": [
    {
     "name": "stdout",
     "output_type": "stream",
     "text": [
      "Enter a number: 1729\n",
      "The number of digits in 1729 is 4\n",
      "The first digit of 1729 is 1\n"
     ]
    }
   ],
   "source": [
    "def digits(n):\n",
    "    \"\"\"\n",
    "    Returns the number of digits in a given number.\n",
    "    \"\"\"\n",
    "    count = 0\n",
    "    while n != 0:\n",
    "        n //= 10\n",
    "        count += 1\n",
    "    return count\n",
    "\n",
    "def firstDigit(n):\n",
    "    \"\"\"\n",
    "    Returns the first digit of a given number.\n",
    "    \"\"\"\n",
    "    while n >= 10:\n",
    "        n //= 10\n",
    "    return n\n",
    "\n",
    "def main():\n",
    "    \"\"\"\n",
    "    Gets input for a number, calls the `digits()` and `firstDigit()` functions, and prints output.\n",
    "    \"\"\"\n",
    "    n = int(input(\"Enter a number: \"))\n",
    "\n",
    "    # Call the `digits()` function and print the output\n",
    "    num_digits = digits(n)\n",
    "    print(f\"The number of digits in {n} is {num_digits}\")\n",
    "\n",
    "    # Call the `firstDigit()` function and print the output\n",
    "    first_digit = firstDigit(n)\n",
    "    print(f\"The first digit of {n} is {first_digit}\")\n",
    "\n",
    "# Call the `main()` function to start the program\n",
    "main()\n",
    "\n",
    "\n",
    "\n",
    "\n"
   ]
  },
  {
   "cell_type": "code",
   "execution_count": null,
   "id": "298bf8bf",
   "metadata": {},
   "outputs": [],
   "source": [
    "def driving_cost(miles_per_gallon, dollars_per_gallon, miles_driven):\n",
    "    gallons_used = miles_driven / miles_per_gallon\n",
    "    cost = gallons_used * dollars_per_gallon\n",
    "    return round(cost, 2)\n",
    "miles_per_gallon = float(input(\"Enter miles per gallon: \"))\n",
    "dollars_per_gallon = float(input(\"Enter dollars per gallon: \"))\n",
    "miles_driven = float(input(\"Enter miles to drive: \"))\n",
    "\n",
    "cost = driving_cost(miles_per_gallon, dollars_per_gallon, miles_driven)\n",
    "\n",
    "print(cost)"
   ]
  },
  {
   "cell_type": "code",
   "execution_count": 2,
   "id": "9968634c",
   "metadata": {},
   "outputs": [
    {
     "name": "stdout",
     "output_type": "stream",
     "text": [
      "6\n"
     ]
    }
   ],
   "source": [
    "def countMultiples(values, multiple):\n",
    "    count = 0\n",
    "    for value in values:\n",
    "        if value % multiple == 0:\n",
    "            count += 1\n",
    "    return count\n",
    "values = [17, 25, 5, 30, 100, 96, 48, 5, 14, 30]\n",
    "multiple = 5\n",
    "count = countMultiples(values, multiple)\n",
    "print(count)"
   ]
  },
  {
   "cell_type": "code",
   "execution_count": 4,
   "id": "13d27545",
   "metadata": {},
   "outputs": [
    {
     "name": "stdout",
     "output_type": "stream",
     "text": [
      "[17, 25, 30, 100, 96, 5, 14]\n"
     ]
    }
   ],
   "source": [
    "def negatives(values):\n",
    "    i = 0\n",
    "    while i < len(values):\n",
    "        if values[i] < 0:\n",
    "            del values[i]\n",
    "        else:\n",
    "            i += 1\n",
    "    return values\n",
    "values = [17, 25, -5, 30, 100, 96, -48, 5, 14, -30]\n",
    "new_values = negatives(values)\n",
    "print(new_values)"
   ]
  },
  {
   "cell_type": "code",
   "execution_count": 6,
   "id": "162d41aa",
   "metadata": {},
   "outputs": [
    {
     "name": "stdout",
     "output_type": "stream",
     "text": [
      "[10, 15, 25, 35, 55]\n"
     ]
    }
   ],
   "source": [
    "def listMultiples(values, number):\n",
    "    i = 0\n",
    "    while i < len(values):\n",
    "        values[i] *= number\n",
    "        i += 1\n",
    "    return values\n",
    "values = [2, 3, 5, 7, 11]\n",
    "number = 5\n",
    "new_values = listMultiples(values, number)\n",
    "print(new_values)"
   ]
  },
  {
   "cell_type": "code",
   "execution_count": 10,
   "id": "b836a40a",
   "metadata": {},
   "outputs": [
    {
     "name": "stdout",
     "output_type": "stream",
     "text": [
      "Enter an integer: 3\n",
      "Enter an integer: 7\n",
      "Enter an integer: -6\n",
      "Enter an integer: 10\n",
      "Enter an integer: 19\n",
      "The sum of the values, except for the smallest one, is: 39\n"
     ]
    }
   ],
   "source": [
    "def sumWithoutSmallest(values):\n",
    "    if len(values) < 2:\n",
    "        return 0\n",
    "    smallest = min(values)\n",
    "    return sum(values) - smallest\n",
    "\n",
    "# Read five integers from the user\n",
    "values = []\n",
    "for i in range(5):\n",
    "    value = int(input(\"Enter an integer: \"))\n",
    "    values.append(value)\n",
    "\n",
    "# Compute the sum of the list without the smallest element\n",
    "sum_without_smallest = sumWithoutSmallest(values)\n",
    "\n",
    "# Print the result\n",
    "print(\"The sum of the values, except for the smallest one, is:\", sum_without_smallest)\n"
   ]
  },
  {
   "cell_type": "code",
   "execution_count": 9,
   "id": "2cb06306",
   "metadata": {},
   "outputs": [
    {
     "name": "stdout",
     "output_type": "stream",
     "text": [
      "Enter an integer: 3\n",
      "Enter an integer: 7\n",
      "Enter an integer: -6\n",
      "Enter an integer: 19\n",
      "Enter an integer: 10\n",
      "The sum without the smallest is 45\n"
     ]
    }
   ],
   "source": [
    "SIZE = 5\n",
    "\n",
    "def sumWithoutSmallest(values):\n",
    "    smallest = values[0]\n",
    "    total = 0\n",
    "    for value in values:\n",
    "        if value < smallest:\n",
    "            smallest = value\n",
    "        else:\n",
    "            total += value\n",
    "    return total - smallest\n",
    "\n",
    "def main():\n",
    "    # Read five integers from the user and add them to a list\n",
    "    values = []\n",
    "    for i in range(SIZE):\n",
    "        value = int(input(\"Enter an integer: \"))\n",
    "        values.append(value)\n",
    "\n",
    "    # Compute the sum of the list without the smallest element\n",
    "    sum_without_smallest = sumWithoutSmallest(values)\n",
    "\n",
    "    # Print the result to the user\n",
    "    print(\"The sum without the smallest is\", sum_without_smallest)\n",
    "\n",
    "if __name__ == \"__main__\":\n",
    "    main()\n"
   ]
  },
  {
   "cell_type": "code",
   "execution_count": 11,
   "id": "5cb5249d",
   "metadata": {},
   "outputs": [
    {
     "name": "stdout",
     "output_type": "stream",
     "text": [
      "Enter an integer: 3\n",
      "Enter an integer: 7\n",
      "Enter an integer: -6\n",
      "Enter an integer: 10\n",
      "Enter an integer: 19\n",
      "The sum of the values, except for the smallest one, is: 39\n",
      "Enter an integer: 3\n",
      "Enter an integer: 2\n",
      "Enter an integer: 4\n",
      "Enter an integer: 9\n",
      "Enter an integer: 1\n",
      "The sum without the smallest is 18\n"
     ]
    }
   ],
   "source": [
    "##\n",
    "#  Sum values without including the smallest.\n",
    "#\n",
    "\n",
    "# Define constant.\n",
    "MAX = 5\n",
    "\n",
    "def main() :\n",
    "    sumList = []\n",
    "    while len(sumList) < MAX :\n",
    "        x = int(input(\"Enter an integer: \"))\n",
    "        sumList.append(x)\n",
    "    \n",
    "    print(\"The sum without the smallest is\", sumWithoutSmallest(sumList))\n",
    "\n",
    "\n",
    "## Sum all elements in the list, excluding the smallest.\n",
    "#  @param data the list of values to process\n",
    "#  @return the sum of all of the values, excluding the smallest\n",
    "#\n",
    "def sumWithoutSmallest(data):\n",
    "    if len(data) < 2:\n",
    "        return 0\n",
    "    smallest = min(data)\n",
    "    return sum(data) - smallest\n",
    "\n",
    "# Read five integers from the user\n",
    "values = []\n",
    "for i in range(5):\n",
    "    value = int(input(\"Enter an integer: \"))\n",
    "    values.append(value)\n",
    "\n",
    "# Compute the sum of the list without the smallest element\n",
    "sum_without_smallest = sumWithoutSmallest(values)\n",
    "\n",
    "# Print the result\n",
    "print(\"The sum of the values, except for the smallest one, is:\", sum_without_smallest)\n",
    "    \n",
    "    \n",
    "    \n",
    "\n",
    "\n",
    "# Call the main function.\n",
    "main()"
   ]
  },
  {
   "cell_type": "code",
   "execution_count": null,
   "id": "e625d332",
   "metadata": {},
   "outputs": [],
   "source": [
    "def fillList():\n",
    "    values = []\n",
    "    while True:\n",
    "        val = input(\"Enter values for List , Q to quit:\")\n",
    "        if val == \"Q\":\n",
    "            break\n",
    "        values.append(int(val))\n",
    "    return values\n",
    "\n",
    "def appendLists(list1, list2):\n",
    "    return list1 + list2\n",
    "\n",
    "def sortList(lst):\n",
    "    lst.sort()\n",
    "    return lst\n",
    "\n",
    "def main():\n",
    "    # Set up sample lists.\n",
    "    a = fillList()\n",
    "    b = fillList()\n",
    "\n",
    "    # Demonstrate that merge works correctly.\n",
    "    print(\"List 1 is\", a)\n",
    "    print(\"List 2 is\", b)\n",
    "    result = appendLists(a, b)\n",
    "    print(\"The merged list is\", result)\n",
    "    print(\"The sorted list is\", sortList(result))\n",
    "    \n",
    "    print(\"Enter values for List 1, Q to quit: \")\n",
    "    list1 = fillList()\n",
    "    print(\"Enter values for List 2, Q to quit: \")\n",
    "    list2 = fillList()\n",
    "#     appended_list = appendLists(list1, list2)\n",
    "#     print(\"Appended List:\", appended_list)\n",
    "#     sorted_list = sortList(appended_list)\n",
    "#     print(\"Sorted List:\", sorted_list)\n",
    "\n",
    "# Call the main function\n",
    "main()\n"
   ]
  },
  {
   "cell_type": "code",
   "execution_count": 22,
   "id": "953747ea",
   "metadata": {},
   "outputs": [
    {
     "ename": "KeyboardInterrupt",
     "evalue": "Interrupted by user",
     "output_type": "error",
     "traceback": [
      "\u001b[1;31m---------------------------------------------------------------------------\u001b[0m",
      "\u001b[1;31mKeyboardInterrupt\u001b[0m                         Traceback (most recent call last)",
      "Cell \u001b[1;32mIn [22], line 49\u001b[0m\n\u001b[0;32m     45\u001b[0m     \u001b[38;5;28;01mreturn\u001b[39;00m \u001b[38;5;28msorted\u001b[39m(lst)\n\u001b[0;32m     48\u001b[0m \u001b[38;5;66;03m# Call the main function.\u001b[39;00m\n\u001b[1;32m---> 49\u001b[0m main()\n",
      "Cell \u001b[1;32mIn [22], line 6\u001b[0m, in \u001b[0;36mmain\u001b[1;34m()\u001b[0m\n\u001b[0;32m      4\u001b[0m \u001b[38;5;28;01mdef\u001b[39;00m \u001b[38;5;21mmain\u001b[39m():\n\u001b[0;32m      5\u001b[0m     \u001b[38;5;66;03m# Set up sample lists.\u001b[39;00m\n\u001b[1;32m----> 6\u001b[0m     a \u001b[38;5;241m=\u001b[39m \u001b[43mfillList\u001b[49m\u001b[43m(\u001b[49m\u001b[43m)\u001b[49m\n\u001b[0;32m      7\u001b[0m     b \u001b[38;5;241m=\u001b[39m fillList()\n\u001b[0;32m      9\u001b[0m     \u001b[38;5;66;03m# Demonstrate that merge works correctly.\u001b[39;00m\n",
      "Cell \u001b[1;32mIn [22], line 24\u001b[0m, in \u001b[0;36mfillList\u001b[1;34m()\u001b[0m\n\u001b[0;32m     22\u001b[0m i \u001b[38;5;241m=\u001b[39m \u001b[38;5;241m1\u001b[39m,\u001b[38;5;241m2\u001b[39m\n\u001b[0;32m     23\u001b[0m \u001b[38;5;28;01mwhile\u001b[39;00m \u001b[38;5;28;01mTrue\u001b[39;00m:\n\u001b[1;32m---> 24\u001b[0m     value \u001b[38;5;241m=\u001b[39m \u001b[38;5;28;43minput\u001b[39;49m\u001b[43m(\u001b[49m\u001b[38;5;124;43m\"\u001b[39;49m\u001b[38;5;124;43mEnter values for List \u001b[39;49m\u001b[38;5;132;43;01m{}\u001b[39;49;00m\u001b[38;5;124;43m, Q to quit:\u001b[39;49m\u001b[38;5;124;43m\"\u001b[39;49m\u001b[38;5;241;43m.\u001b[39;49m\u001b[43mformat\u001b[49m\u001b[43m(\u001b[49m\u001b[43mi\u001b[49m\u001b[43m)\u001b[49m\u001b[43m)\u001b[49m\n\u001b[0;32m     25\u001b[0m     \u001b[38;5;28;01mif\u001b[39;00m value \u001b[38;5;241m==\u001b[39m \u001b[38;5;124m\"\u001b[39m\u001b[38;5;124mQ\u001b[39m\u001b[38;5;124m\"\u001b[39m:\n\u001b[0;32m     26\u001b[0m         \u001b[38;5;28;01mbreak\u001b[39;00m\n",
      "File \u001b[1;32mC:\\Python310\\lib\\site-packages\\ipykernel\\kernelbase.py:1177\u001b[0m, in \u001b[0;36mKernel.raw_input\u001b[1;34m(self, prompt)\u001b[0m\n\u001b[0;32m   1173\u001b[0m \u001b[38;5;28;01mif\u001b[39;00m \u001b[38;5;129;01mnot\u001b[39;00m \u001b[38;5;28mself\u001b[39m\u001b[38;5;241m.\u001b[39m_allow_stdin:\n\u001b[0;32m   1174\u001b[0m     \u001b[38;5;28;01mraise\u001b[39;00m StdinNotImplementedError(\n\u001b[0;32m   1175\u001b[0m         \u001b[38;5;124m\"\u001b[39m\u001b[38;5;124mraw_input was called, but this frontend does not support input requests.\u001b[39m\u001b[38;5;124m\"\u001b[39m\n\u001b[0;32m   1176\u001b[0m     )\n\u001b[1;32m-> 1177\u001b[0m \u001b[38;5;28;01mreturn\u001b[39;00m \u001b[38;5;28;43mself\u001b[39;49m\u001b[38;5;241;43m.\u001b[39;49m\u001b[43m_input_request\u001b[49m\u001b[43m(\u001b[49m\n\u001b[0;32m   1178\u001b[0m \u001b[43m    \u001b[49m\u001b[38;5;28;43mstr\u001b[39;49m\u001b[43m(\u001b[49m\u001b[43mprompt\u001b[49m\u001b[43m)\u001b[49m\u001b[43m,\u001b[49m\n\u001b[0;32m   1179\u001b[0m \u001b[43m    \u001b[49m\u001b[38;5;28;43mself\u001b[39;49m\u001b[38;5;241;43m.\u001b[39;49m\u001b[43m_parent_ident\u001b[49m\u001b[43m[\u001b[49m\u001b[38;5;124;43m\"\u001b[39;49m\u001b[38;5;124;43mshell\u001b[39;49m\u001b[38;5;124;43m\"\u001b[39;49m\u001b[43m]\u001b[49m\u001b[43m,\u001b[49m\n\u001b[0;32m   1180\u001b[0m \u001b[43m    \u001b[49m\u001b[38;5;28;43mself\u001b[39;49m\u001b[38;5;241;43m.\u001b[39;49m\u001b[43mget_parent\u001b[49m\u001b[43m(\u001b[49m\u001b[38;5;124;43m\"\u001b[39;49m\u001b[38;5;124;43mshell\u001b[39;49m\u001b[38;5;124;43m\"\u001b[39;49m\u001b[43m)\u001b[49m\u001b[43m,\u001b[49m\n\u001b[0;32m   1181\u001b[0m \u001b[43m    \u001b[49m\u001b[43mpassword\u001b[49m\u001b[38;5;241;43m=\u001b[39;49m\u001b[38;5;28;43;01mFalse\u001b[39;49;00m\u001b[43m,\u001b[49m\n\u001b[0;32m   1182\u001b[0m \u001b[43m\u001b[49m\u001b[43m)\u001b[49m\n",
      "File \u001b[1;32mC:\\Python310\\lib\\site-packages\\ipykernel\\kernelbase.py:1219\u001b[0m, in \u001b[0;36mKernel._input_request\u001b[1;34m(self, prompt, ident, parent, password)\u001b[0m\n\u001b[0;32m   1216\u001b[0m             \u001b[38;5;28;01mbreak\u001b[39;00m\n\u001b[0;32m   1217\u001b[0m \u001b[38;5;28;01mexcept\u001b[39;00m \u001b[38;5;167;01mKeyboardInterrupt\u001b[39;00m:\n\u001b[0;32m   1218\u001b[0m     \u001b[38;5;66;03m# re-raise KeyboardInterrupt, to truncate traceback\u001b[39;00m\n\u001b[1;32m-> 1219\u001b[0m     \u001b[38;5;28;01mraise\u001b[39;00m \u001b[38;5;167;01mKeyboardInterrupt\u001b[39;00m(\u001b[38;5;124m\"\u001b[39m\u001b[38;5;124mInterrupted by user\u001b[39m\u001b[38;5;124m\"\u001b[39m) \u001b[38;5;28;01mfrom\u001b[39;00m \u001b[38;5;28mNone\u001b[39m\n\u001b[0;32m   1220\u001b[0m \u001b[38;5;28;01mexcept\u001b[39;00m \u001b[38;5;167;01mException\u001b[39;00m:\n\u001b[0;32m   1221\u001b[0m     \u001b[38;5;28mself\u001b[39m\u001b[38;5;241m.\u001b[39mlog\u001b[38;5;241m.\u001b[39mwarning(\u001b[38;5;124m\"\u001b[39m\u001b[38;5;124mInvalid Message:\u001b[39m\u001b[38;5;124m\"\u001b[39m, exc_info\u001b[38;5;241m=\u001b[39m\u001b[38;5;28;01mTrue\u001b[39;00m)\n",
      "\u001b[1;31mKeyboardInterrupt\u001b[0m: Interrupted by user"
     ]
    }
   ],
   "source": [
    "##\n",
    "#  Fill a list, append one list to another, and sort the list.\n",
    "#\n",
    "def main():\n",
    "    # Set up sample lists.\n",
    "    a = fillList()\n",
    "    b = fillList()\n",
    "\n",
    "    # Demonstrate that merge works correctly.\n",
    "    print(\"List 1 is\", a)\n",
    "    print(\"List 2 is\", b)\n",
    "    result = appendLists(a, b)\n",
    "    print(\"The merged list is\", result)\n",
    "    print(\"The sorted list is\", sortList(result))\n",
    "\n",
    "\n",
    "## Fill a list with user input.\n",
    "#  @return the list\n",
    "#\n",
    "def fillList():\n",
    "    lst = []\n",
    "    i = \n",
    "    while True:\n",
    "        value = input(\"Enter values for List {}, Q to quit:\"\n",
    "        if value == \"Q\":\n",
    "            break\n",
    "        lst.append(value)\n",
    "    return lst\n",
    "\n",
    "\n",
    "## Append one list to another.\n",
    "#  @param a the first list\n",
    "#  @param b the second list\n",
    "#  @return the appended list\n",
    "#\n",
    "def appendLists(a, b):\n",
    "    return a + b\n",
    "\n",
    "\n",
    "## Sort a list.\n",
    "#  @param lst the list to sort\n",
    "#  @return the sorted list\n",
    "#\n",
    "def sortList(lst):\n",
    "    return sorted(lst)\n",
    "\n",
    "\n",
    "# Call the main function.\n",
    "main()\n"
   ]
  },
  {
   "cell_type": "code",
   "execution_count": 24,
   "id": "de30ea59",
   "metadata": {},
   "outputs": [
    {
     "ename": "KeyboardInterrupt",
     "evalue": "Interrupted by user",
     "output_type": "error",
     "traceback": [
      "\u001b[1;31m---------------------------------------------------------------------------\u001b[0m",
      "\u001b[1;31mKeyboardInterrupt\u001b[0m                         Traceback (most recent call last)",
      "Cell \u001b[1;32mIn [24], line 29\u001b[0m\n\u001b[0;32m     26\u001b[0m     \u001b[38;5;28mprint\u001b[39m(\u001b[38;5;124m\"\u001b[39m\u001b[38;5;124mThe sorted list is\u001b[39m\u001b[38;5;124m\"\u001b[39m, sortList(result))\n\u001b[0;32m     28\u001b[0m \u001b[38;5;66;03m# Call the main function.\u001b[39;00m\n\u001b[1;32m---> 29\u001b[0m main()\n",
      "Cell \u001b[1;32mIn [24], line 18\u001b[0m, in \u001b[0;36mmain\u001b[1;34m()\u001b[0m\n\u001b[0;32m     16\u001b[0m \u001b[38;5;28;01mdef\u001b[39;00m \u001b[38;5;21mmain\u001b[39m():\n\u001b[0;32m     17\u001b[0m     \u001b[38;5;66;03m# Set up sample lists.\u001b[39;00m\n\u001b[1;32m---> 18\u001b[0m     a \u001b[38;5;241m=\u001b[39m \u001b[43mfillList\u001b[49m\u001b[43m(\u001b[49m\u001b[43m)\u001b[49m\n\u001b[0;32m     19\u001b[0m     b \u001b[38;5;241m=\u001b[39m fillList()\n\u001b[0;32m     21\u001b[0m     \u001b[38;5;66;03m# Demonstrate that merge works correctly.\u001b[39;00m\n",
      "Cell \u001b[1;32mIn [24], line 4\u001b[0m, in \u001b[0;36mfillList\u001b[1;34m()\u001b[0m\n\u001b[0;32m      2\u001b[0m lst \u001b[38;5;241m=\u001b[39m []\n\u001b[0;32m      3\u001b[0m \u001b[38;5;28;01mwhile\u001b[39;00m \u001b[38;5;28;01mTrue\u001b[39;00m:\n\u001b[1;32m----> 4\u001b[0m     value \u001b[38;5;241m=\u001b[39m \u001b[38;5;28;43minput\u001b[39;49m\u001b[43m(\u001b[49m\u001b[38;5;124;43m\"\u001b[39;49m\u001b[38;5;124;43mEnter values for List , Q to quit:\u001b[39;49m\u001b[38;5;124;43m\"\u001b[39;49m\u001b[43m)\u001b[49m\n\u001b[0;32m      5\u001b[0m     \u001b[38;5;28;01mif\u001b[39;00m value \u001b[38;5;241m==\u001b[39m \u001b[38;5;124m\"\u001b[39m\u001b[38;5;124mQ\u001b[39m\u001b[38;5;124m\"\u001b[39m:\n\u001b[0;32m      6\u001b[0m         \u001b[38;5;28;01mbreak\u001b[39;00m\n",
      "File \u001b[1;32mC:\\Python310\\lib\\site-packages\\ipykernel\\kernelbase.py:1177\u001b[0m, in \u001b[0;36mKernel.raw_input\u001b[1;34m(self, prompt)\u001b[0m\n\u001b[0;32m   1173\u001b[0m \u001b[38;5;28;01mif\u001b[39;00m \u001b[38;5;129;01mnot\u001b[39;00m \u001b[38;5;28mself\u001b[39m\u001b[38;5;241m.\u001b[39m_allow_stdin:\n\u001b[0;32m   1174\u001b[0m     \u001b[38;5;28;01mraise\u001b[39;00m StdinNotImplementedError(\n\u001b[0;32m   1175\u001b[0m         \u001b[38;5;124m\"\u001b[39m\u001b[38;5;124mraw_input was called, but this frontend does not support input requests.\u001b[39m\u001b[38;5;124m\"\u001b[39m\n\u001b[0;32m   1176\u001b[0m     )\n\u001b[1;32m-> 1177\u001b[0m \u001b[38;5;28;01mreturn\u001b[39;00m \u001b[38;5;28;43mself\u001b[39;49m\u001b[38;5;241;43m.\u001b[39;49m\u001b[43m_input_request\u001b[49m\u001b[43m(\u001b[49m\n\u001b[0;32m   1178\u001b[0m \u001b[43m    \u001b[49m\u001b[38;5;28;43mstr\u001b[39;49m\u001b[43m(\u001b[49m\u001b[43mprompt\u001b[49m\u001b[43m)\u001b[49m\u001b[43m,\u001b[49m\n\u001b[0;32m   1179\u001b[0m \u001b[43m    \u001b[49m\u001b[38;5;28;43mself\u001b[39;49m\u001b[38;5;241;43m.\u001b[39;49m\u001b[43m_parent_ident\u001b[49m\u001b[43m[\u001b[49m\u001b[38;5;124;43m\"\u001b[39;49m\u001b[38;5;124;43mshell\u001b[39;49m\u001b[38;5;124;43m\"\u001b[39;49m\u001b[43m]\u001b[49m\u001b[43m,\u001b[49m\n\u001b[0;32m   1180\u001b[0m \u001b[43m    \u001b[49m\u001b[38;5;28;43mself\u001b[39;49m\u001b[38;5;241;43m.\u001b[39;49m\u001b[43mget_parent\u001b[49m\u001b[43m(\u001b[49m\u001b[38;5;124;43m\"\u001b[39;49m\u001b[38;5;124;43mshell\u001b[39;49m\u001b[38;5;124;43m\"\u001b[39;49m\u001b[43m)\u001b[49m\u001b[43m,\u001b[49m\n\u001b[0;32m   1181\u001b[0m \u001b[43m    \u001b[49m\u001b[43mpassword\u001b[49m\u001b[38;5;241;43m=\u001b[39;49m\u001b[38;5;28;43;01mFalse\u001b[39;49;00m\u001b[43m,\u001b[49m\n\u001b[0;32m   1182\u001b[0m \u001b[43m\u001b[49m\u001b[43m)\u001b[49m\n",
      "File \u001b[1;32mC:\\Python310\\lib\\site-packages\\ipykernel\\kernelbase.py:1219\u001b[0m, in \u001b[0;36mKernel._input_request\u001b[1;34m(self, prompt, ident, parent, password)\u001b[0m\n\u001b[0;32m   1216\u001b[0m             \u001b[38;5;28;01mbreak\u001b[39;00m\n\u001b[0;32m   1217\u001b[0m \u001b[38;5;28;01mexcept\u001b[39;00m \u001b[38;5;167;01mKeyboardInterrupt\u001b[39;00m:\n\u001b[0;32m   1218\u001b[0m     \u001b[38;5;66;03m# re-raise KeyboardInterrupt, to truncate traceback\u001b[39;00m\n\u001b[1;32m-> 1219\u001b[0m     \u001b[38;5;28;01mraise\u001b[39;00m \u001b[38;5;167;01mKeyboardInterrupt\u001b[39;00m(\u001b[38;5;124m\"\u001b[39m\u001b[38;5;124mInterrupted by user\u001b[39m\u001b[38;5;124m\"\u001b[39m) \u001b[38;5;28;01mfrom\u001b[39;00m \u001b[38;5;28mNone\u001b[39m\n\u001b[0;32m   1220\u001b[0m \u001b[38;5;28;01mexcept\u001b[39;00m \u001b[38;5;167;01mException\u001b[39;00m:\n\u001b[0;32m   1221\u001b[0m     \u001b[38;5;28mself\u001b[39m\u001b[38;5;241m.\u001b[39mlog\u001b[38;5;241m.\u001b[39mwarning(\u001b[38;5;124m\"\u001b[39m\u001b[38;5;124mInvalid Message:\u001b[39m\u001b[38;5;124m\"\u001b[39m, exc_info\u001b[38;5;241m=\u001b[39m\u001b[38;5;28;01mTrue\u001b[39;00m)\n",
      "\u001b[1;31mKeyboardInterrupt\u001b[0m: Interrupted by user"
     ]
    }
   ],
   "source": [
    "def fillList():\n",
    "    lst = []\n",
    "    while True:\n",
    "        value = input(\"Enter values for List , Q to quit:\")\n",
    "        if value == \"Q\":\n",
    "            break\n",
    "        lst.append(int(value))\n",
    "    return lst\n",
    "\n",
    "def appendLists(a, b):\n",
    "    return a + b\n",
    "\n",
    "def sortList(lst):\n",
    "    return sorted(lst)\n",
    "\n",
    "def main():\n",
    "    # Set up sample lists.\n",
    "    a = fillList()\n",
    "    b = fillList()\n",
    "\n",
    "    # Demonstrate that merge works correctly.\n",
    "    print(\"List 1 is\", a)\n",
    "    print(\"List 2 is\", b)\n",
    "    result = appendLists(a, b)\n",
    "    print(\"The merged list is\", result)\n",
    "    print(\"The sorted list is\", sortList(result))\n",
    "\n",
    "# Call the main function.\n",
    "main()\n"
   ]
  },
  {
   "cell_type": "code",
   "execution_count": 27,
   "id": "9353c136",
   "metadata": {},
   "outputs": [
    {
     "ename": "KeyboardInterrupt",
     "evalue": "Interrupted by user",
     "output_type": "error",
     "traceback": [
      "\u001b[1;31m---------------------------------------------------------------------------\u001b[0m",
      "\u001b[1;31mKeyboardInterrupt\u001b[0m                         Traceback (most recent call last)",
      "Cell \u001b[1;32mIn [27], line 30\u001b[0m\n\u001b[0;32m     27\u001b[0m     \u001b[38;5;28mprint\u001b[39m(\u001b[38;5;124m\"\u001b[39m\u001b[38;5;124mThe sorted list is\u001b[39m\u001b[38;5;124m\"\u001b[39m, sorted_result)\n\u001b[0;32m     29\u001b[0m \u001b[38;5;28;01mif\u001b[39;00m \u001b[38;5;18m__name__\u001b[39m \u001b[38;5;241m==\u001b[39m \u001b[38;5;124m'\u001b[39m\u001b[38;5;124m__main__\u001b[39m\u001b[38;5;124m'\u001b[39m:\n\u001b[1;32m---> 30\u001b[0m     main()\n",
      "Cell \u001b[1;32mIn [27], line 17\u001b[0m, in \u001b[0;36mmain\u001b[1;34m()\u001b[0m\n\u001b[0;32m     16\u001b[0m \u001b[38;5;28;01mdef\u001b[39;00m \u001b[38;5;21mmain\u001b[39m():\n\u001b[1;32m---> 17\u001b[0m     a \u001b[38;5;241m=\u001b[39m \u001b[43mfillList\u001b[49m\u001b[43m(\u001b[49m\u001b[43m)\u001b[49m\n\u001b[0;32m     18\u001b[0m     b \u001b[38;5;241m=\u001b[39m fillList()\n\u001b[0;32m     20\u001b[0m     \u001b[38;5;28mprint\u001b[39m(\u001b[38;5;124m\"\u001b[39m\u001b[38;5;124mList 1 is\u001b[39m\u001b[38;5;124m\"\u001b[39m, a)\n",
      "Cell \u001b[1;32mIn [27], line 4\u001b[0m, in \u001b[0;36mfillList\u001b[1;34m()\u001b[0m\n\u001b[0;32m      2\u001b[0m lst \u001b[38;5;241m=\u001b[39m []\n\u001b[0;32m      3\u001b[0m \u001b[38;5;28;01mwhile\u001b[39;00m \u001b[38;5;28;01mTrue\u001b[39;00m:\n\u001b[1;32m----> 4\u001b[0m     value \u001b[38;5;241m=\u001b[39m \u001b[38;5;28;43minput\u001b[39;49m\u001b[43m(\u001b[49m\u001b[38;5;124;43m\"\u001b[39;49m\u001b[38;5;124;43mEnter values for a list, Q to quit: \u001b[39;49m\u001b[38;5;124;43m\"\u001b[39;49m\u001b[43m)\u001b[49m\n\u001b[0;32m      5\u001b[0m     \u001b[38;5;28;01mif\u001b[39;00m value \u001b[38;5;241m==\u001b[39m \u001b[38;5;124m\"\u001b[39m\u001b[38;5;124mQ\u001b[39m\u001b[38;5;124m\"\u001b[39m:\n\u001b[0;32m      6\u001b[0m         \u001b[38;5;28;01mbreak\u001b[39;00m\n",
      "File \u001b[1;32mC:\\Python310\\lib\\site-packages\\ipykernel\\kernelbase.py:1177\u001b[0m, in \u001b[0;36mKernel.raw_input\u001b[1;34m(self, prompt)\u001b[0m\n\u001b[0;32m   1173\u001b[0m \u001b[38;5;28;01mif\u001b[39;00m \u001b[38;5;129;01mnot\u001b[39;00m \u001b[38;5;28mself\u001b[39m\u001b[38;5;241m.\u001b[39m_allow_stdin:\n\u001b[0;32m   1174\u001b[0m     \u001b[38;5;28;01mraise\u001b[39;00m StdinNotImplementedError(\n\u001b[0;32m   1175\u001b[0m         \u001b[38;5;124m\"\u001b[39m\u001b[38;5;124mraw_input was called, but this frontend does not support input requests.\u001b[39m\u001b[38;5;124m\"\u001b[39m\n\u001b[0;32m   1176\u001b[0m     )\n\u001b[1;32m-> 1177\u001b[0m \u001b[38;5;28;01mreturn\u001b[39;00m \u001b[38;5;28;43mself\u001b[39;49m\u001b[38;5;241;43m.\u001b[39;49m\u001b[43m_input_request\u001b[49m\u001b[43m(\u001b[49m\n\u001b[0;32m   1178\u001b[0m \u001b[43m    \u001b[49m\u001b[38;5;28;43mstr\u001b[39;49m\u001b[43m(\u001b[49m\u001b[43mprompt\u001b[49m\u001b[43m)\u001b[49m\u001b[43m,\u001b[49m\n\u001b[0;32m   1179\u001b[0m \u001b[43m    \u001b[49m\u001b[38;5;28;43mself\u001b[39;49m\u001b[38;5;241;43m.\u001b[39;49m\u001b[43m_parent_ident\u001b[49m\u001b[43m[\u001b[49m\u001b[38;5;124;43m\"\u001b[39;49m\u001b[38;5;124;43mshell\u001b[39;49m\u001b[38;5;124;43m\"\u001b[39;49m\u001b[43m]\u001b[49m\u001b[43m,\u001b[49m\n\u001b[0;32m   1180\u001b[0m \u001b[43m    \u001b[49m\u001b[38;5;28;43mself\u001b[39;49m\u001b[38;5;241;43m.\u001b[39;49m\u001b[43mget_parent\u001b[49m\u001b[43m(\u001b[49m\u001b[38;5;124;43m\"\u001b[39;49m\u001b[38;5;124;43mshell\u001b[39;49m\u001b[38;5;124;43m\"\u001b[39;49m\u001b[43m)\u001b[49m\u001b[43m,\u001b[49m\n\u001b[0;32m   1181\u001b[0m \u001b[43m    \u001b[49m\u001b[43mpassword\u001b[49m\u001b[38;5;241;43m=\u001b[39;49m\u001b[38;5;28;43;01mFalse\u001b[39;49;00m\u001b[43m,\u001b[49m\n\u001b[0;32m   1182\u001b[0m \u001b[43m\u001b[49m\u001b[43m)\u001b[49m\n",
      "File \u001b[1;32mC:\\Python310\\lib\\site-packages\\ipykernel\\kernelbase.py:1219\u001b[0m, in \u001b[0;36mKernel._input_request\u001b[1;34m(self, prompt, ident, parent, password)\u001b[0m\n\u001b[0;32m   1216\u001b[0m             \u001b[38;5;28;01mbreak\u001b[39;00m\n\u001b[0;32m   1217\u001b[0m \u001b[38;5;28;01mexcept\u001b[39;00m \u001b[38;5;167;01mKeyboardInterrupt\u001b[39;00m:\n\u001b[0;32m   1218\u001b[0m     \u001b[38;5;66;03m# re-raise KeyboardInterrupt, to truncate traceback\u001b[39;00m\n\u001b[1;32m-> 1219\u001b[0m     \u001b[38;5;28;01mraise\u001b[39;00m \u001b[38;5;167;01mKeyboardInterrupt\u001b[39;00m(\u001b[38;5;124m\"\u001b[39m\u001b[38;5;124mInterrupted by user\u001b[39m\u001b[38;5;124m\"\u001b[39m) \u001b[38;5;28;01mfrom\u001b[39;00m \u001b[38;5;28mNone\u001b[39m\n\u001b[0;32m   1220\u001b[0m \u001b[38;5;28;01mexcept\u001b[39;00m \u001b[38;5;167;01mException\u001b[39;00m:\n\u001b[0;32m   1221\u001b[0m     \u001b[38;5;28mself\u001b[39m\u001b[38;5;241m.\u001b[39mlog\u001b[38;5;241m.\u001b[39mwarning(\u001b[38;5;124m\"\u001b[39m\u001b[38;5;124mInvalid Message:\u001b[39m\u001b[38;5;124m\"\u001b[39m, exc_info\u001b[38;5;241m=\u001b[39m\u001b[38;5;28;01mTrue\u001b[39;00m)\n",
      "\u001b[1;31mKeyboardInterrupt\u001b[0m: Interrupted by user"
     ]
    }
   ],
   "source": [
    "def fillList():\n",
    "    lst = []\n",
    "    while True:\n",
    "        value = input(\"Enter values for a list, Q to quit: \")\n",
    "        if value == \"Q\":\n",
    "            break\n",
    "        lst.append(int(value))\n",
    "    return lst\n",
    "\n",
    "def appendLists(a, b):\n",
    "    return a + b\n",
    "\n",
    "def sortList(lst):\n",
    "    return sorted(lst)\n",
    "\n",
    "def main():\n",
    "    a = fillList()\n",
    "    b = fillList()\n",
    "\n",
    "    print(\"List 1 is\", a)\n",
    "    print(\"List 2 is\", b)\n",
    "\n",
    "    result = appendLists(a, b)\n",
    "    print(\"The merged list is\", result)\n",
    "\n",
    "    sorted_result = sortList(result)\n",
    "    print(\"The sorted list is\", sorted_result)\n",
    "\n",
    "if __name__ == '__main__':\n",
    "    main()\n"
   ]
  },
  {
   "cell_type": "code",
   "execution_count": 40,
   "id": "697d67bd",
   "metadata": {},
   "outputs": [
    {
     "name": "stdout",
     "output_type": "stream",
     "text": [
      "Enter values for List, Q to quit:\n",
      "1\n",
      "2\n",
      "3\n",
      "Q\n",
      "Enter values for List, Q to quit:\n",
      "1\n",
      "2\n",
      "3\n",
      "Q\n",
      "List 1 is [1, 2, 3]\n",
      "List 2 is [1, 2, 3]\n",
      "The merged list is [1, 2, 3, 1, 2, 3]\n",
      "The sorted list is [1, 1, 2, 2, 3, 3]\n"
     ]
    }
   ],
   "source": [
    "def fillList():\n",
    "    lst1 = []\n",
    "    lst2 =[]\n",
    "    print(\"Enter values for List, Q to quit:\")\n",
    "    while True:\n",
    "        \n",
    "        value = input()\n",
    "        if value == \"Q\":\n",
    "            break\n",
    "        lst1.append(int(value))\n",
    "    print(\"Enter values for List, Q to quit:\")\n",
    "    while True:\n",
    "        \n",
    "        value = input()\n",
    "        if value == \"Q\":\n",
    "            break\n",
    "        lst2.append(int(value))\n",
    "    return lst1,lst2\n",
    "\n",
    "def appendLists(a, b):\n",
    "    return a + b\n",
    "\n",
    "def sortList(lst):\n",
    "    return sorted(lst)\n",
    "\n",
    "def main():\n",
    "    a,b = fillList()\n",
    "    \n",
    "\n",
    "    print(\"List 1 is\",a)\n",
    "    print(\"List 2 is\",b)\n",
    "\n",
    "    result = appendLists(a, b)\n",
    "    print(\"The merged list is\",result)\n",
    "\n",
    "\n",
    "    sorted_result = sortList(result)\n",
    "    print(\"The sorted list is\", sorted_result)\n",
    "    \n",
    "main()\n",
    "\n"
   ]
  },
  {
   "cell_type": "code",
   "execution_count": 39,
   "id": "ca3febbf",
   "metadata": {},
   "outputs": [
    {
     "name": "stdout",
     "output_type": "stream",
     "text": [
      "Enter values for a list2, Q to quit: 1\n",
      "Enter values for a list2, Q to quit: 2\n",
      "Enter values for a list2, Q to quit: 1\n"
     ]
    },
    {
     "ename": "KeyboardInterrupt",
     "evalue": "Interrupted by user",
     "output_type": "error",
     "traceback": [
      "\u001b[1;31m---------------------------------------------------------------------------\u001b[0m",
      "\u001b[1;31mKeyboardInterrupt\u001b[0m                         Traceback (most recent call last)",
      "Cell \u001b[1;32mIn [39], line 1\u001b[0m\n\u001b[1;32m----> 1\u001b[0m main()\n",
      "Cell \u001b[1;32mIn [37], line 24\u001b[0m, in \u001b[0;36mmain\u001b[1;34m()\u001b[0m\n\u001b[0;32m     23\u001b[0m \u001b[38;5;28;01mdef\u001b[39;00m \u001b[38;5;21mmain\u001b[39m():\n\u001b[1;32m---> 24\u001b[0m     a,b \u001b[38;5;241m=\u001b[39m \u001b[43mfillList\u001b[49m\u001b[43m(\u001b[49m\u001b[43m)\u001b[49m\n\u001b[0;32m     27\u001b[0m     \u001b[38;5;28mprint\u001b[39m(\u001b[38;5;124m\"\u001b[39m\u001b[38;5;124mList 1 is\u001b[39m\u001b[38;5;124m\"\u001b[39m, a)\n\u001b[0;32m     28\u001b[0m     \u001b[38;5;28mprint\u001b[39m(\u001b[38;5;124m\"\u001b[39m\u001b[38;5;124mList 2 is\u001b[39m\u001b[38;5;124m\"\u001b[39m, b)\n",
      "Cell \u001b[1;32mIn [37], line 5\u001b[0m, in \u001b[0;36mfillList\u001b[1;34m()\u001b[0m\n\u001b[0;32m      3\u001b[0m lst2 \u001b[38;5;241m=\u001b[39m[]\n\u001b[0;32m      4\u001b[0m \u001b[38;5;28;01mwhile\u001b[39;00m \u001b[38;5;28;01mTrue\u001b[39;00m:\n\u001b[1;32m----> 5\u001b[0m     value \u001b[38;5;241m=\u001b[39m \u001b[38;5;28;43minput\u001b[39;49m\u001b[43m(\u001b[49m\u001b[38;5;124;43m\"\u001b[39;49m\u001b[38;5;124;43mEnter values for a list2, Q to quit: \u001b[39;49m\u001b[38;5;124;43m\"\u001b[39;49m\u001b[43m)\u001b[49m\n\u001b[0;32m      6\u001b[0m     \u001b[38;5;28;01mif\u001b[39;00m value \u001b[38;5;241m==\u001b[39m \u001b[38;5;124m\"\u001b[39m\u001b[38;5;124mQ\u001b[39m\u001b[38;5;124m\"\u001b[39m:\n\u001b[0;32m      7\u001b[0m         \u001b[38;5;28;01mbreak\u001b[39;00m\n",
      "File \u001b[1;32mC:\\Python310\\lib\\site-packages\\ipykernel\\kernelbase.py:1177\u001b[0m, in \u001b[0;36mKernel.raw_input\u001b[1;34m(self, prompt)\u001b[0m\n\u001b[0;32m   1173\u001b[0m \u001b[38;5;28;01mif\u001b[39;00m \u001b[38;5;129;01mnot\u001b[39;00m \u001b[38;5;28mself\u001b[39m\u001b[38;5;241m.\u001b[39m_allow_stdin:\n\u001b[0;32m   1174\u001b[0m     \u001b[38;5;28;01mraise\u001b[39;00m StdinNotImplementedError(\n\u001b[0;32m   1175\u001b[0m         \u001b[38;5;124m\"\u001b[39m\u001b[38;5;124mraw_input was called, but this frontend does not support input requests.\u001b[39m\u001b[38;5;124m\"\u001b[39m\n\u001b[0;32m   1176\u001b[0m     )\n\u001b[1;32m-> 1177\u001b[0m \u001b[38;5;28;01mreturn\u001b[39;00m \u001b[38;5;28;43mself\u001b[39;49m\u001b[38;5;241;43m.\u001b[39;49m\u001b[43m_input_request\u001b[49m\u001b[43m(\u001b[49m\n\u001b[0;32m   1178\u001b[0m \u001b[43m    \u001b[49m\u001b[38;5;28;43mstr\u001b[39;49m\u001b[43m(\u001b[49m\u001b[43mprompt\u001b[49m\u001b[43m)\u001b[49m\u001b[43m,\u001b[49m\n\u001b[0;32m   1179\u001b[0m \u001b[43m    \u001b[49m\u001b[38;5;28;43mself\u001b[39;49m\u001b[38;5;241;43m.\u001b[39;49m\u001b[43m_parent_ident\u001b[49m\u001b[43m[\u001b[49m\u001b[38;5;124;43m\"\u001b[39;49m\u001b[38;5;124;43mshell\u001b[39;49m\u001b[38;5;124;43m\"\u001b[39;49m\u001b[43m]\u001b[49m\u001b[43m,\u001b[49m\n\u001b[0;32m   1180\u001b[0m \u001b[43m    \u001b[49m\u001b[38;5;28;43mself\u001b[39;49m\u001b[38;5;241;43m.\u001b[39;49m\u001b[43mget_parent\u001b[49m\u001b[43m(\u001b[49m\u001b[38;5;124;43m\"\u001b[39;49m\u001b[38;5;124;43mshell\u001b[39;49m\u001b[38;5;124;43m\"\u001b[39;49m\u001b[43m)\u001b[49m\u001b[43m,\u001b[49m\n\u001b[0;32m   1181\u001b[0m \u001b[43m    \u001b[49m\u001b[43mpassword\u001b[49m\u001b[38;5;241;43m=\u001b[39;49m\u001b[38;5;28;43;01mFalse\u001b[39;49;00m\u001b[43m,\u001b[49m\n\u001b[0;32m   1182\u001b[0m \u001b[43m\u001b[49m\u001b[43m)\u001b[49m\n",
      "File \u001b[1;32mC:\\Python310\\lib\\site-packages\\ipykernel\\kernelbase.py:1219\u001b[0m, in \u001b[0;36mKernel._input_request\u001b[1;34m(self, prompt, ident, parent, password)\u001b[0m\n\u001b[0;32m   1216\u001b[0m             \u001b[38;5;28;01mbreak\u001b[39;00m\n\u001b[0;32m   1217\u001b[0m \u001b[38;5;28;01mexcept\u001b[39;00m \u001b[38;5;167;01mKeyboardInterrupt\u001b[39;00m:\n\u001b[0;32m   1218\u001b[0m     \u001b[38;5;66;03m# re-raise KeyboardInterrupt, to truncate traceback\u001b[39;00m\n\u001b[1;32m-> 1219\u001b[0m     \u001b[38;5;28;01mraise\u001b[39;00m \u001b[38;5;167;01mKeyboardInterrupt\u001b[39;00m(\u001b[38;5;124m\"\u001b[39m\u001b[38;5;124mInterrupted by user\u001b[39m\u001b[38;5;124m\"\u001b[39m) \u001b[38;5;28;01mfrom\u001b[39;00m \u001b[38;5;28mNone\u001b[39m\n\u001b[0;32m   1220\u001b[0m \u001b[38;5;28;01mexcept\u001b[39;00m \u001b[38;5;167;01mException\u001b[39;00m:\n\u001b[0;32m   1221\u001b[0m     \u001b[38;5;28mself\u001b[39m\u001b[38;5;241m.\u001b[39mlog\u001b[38;5;241m.\u001b[39mwarning(\u001b[38;5;124m\"\u001b[39m\u001b[38;5;124mInvalid Message:\u001b[39m\u001b[38;5;124m\"\u001b[39m, exc_info\u001b[38;5;241m=\u001b[39m\u001b[38;5;28;01mTrue\u001b[39;00m)\n",
      "\u001b[1;31mKeyboardInterrupt\u001b[0m: Interrupted by user"
     ]
    }
   ],
   "source": [
    "main()"
   ]
  },
  {
   "cell_type": "code",
   "execution_count": 14,
   "id": "48e55c1f",
   "metadata": {},
   "outputs": [
    {
     "name": "stdout",
     "output_type": "stream",
     "text": [
      "Enter input file name: mary.text\n",
      "Enter output file name: output.text\n"
     ]
    },
    {
     "ename": "FileNotFoundError",
     "evalue": "[Errno 2] No such file or directory: 'mary.text'",
     "output_type": "error",
     "traceback": [
      "\u001b[1;31m---------------------------------------------------------------------------\u001b[0m",
      "\u001b[1;31mFileNotFoundError\u001b[0m                         Traceback (most recent call last)",
      "Cell \u001b[1;32mIn [14], line 6\u001b[0m\n\u001b[0;32m      3\u001b[0m output_file_name \u001b[38;5;241m=\u001b[39m \u001b[38;5;28minput\u001b[39m(\u001b[38;5;124m\"\u001b[39m\u001b[38;5;124mEnter output file name: \u001b[39m\u001b[38;5;124m\"\u001b[39m)\n\u001b[0;32m      5\u001b[0m \u001b[38;5;66;03m# Open the input and output files.\u001b[39;00m\n\u001b[1;32m----> 6\u001b[0m \u001b[38;5;28;01mwith\u001b[39;00m \u001b[38;5;28mopen\u001b[39m(input_file_name, \u001b[38;5;124m'\u001b[39m\u001b[38;5;124mr\u001b[39m\u001b[38;5;124m'\u001b[39m) \u001b[38;5;28;01mas\u001b[39;00m input_file, \u001b[38;5;28mopen\u001b[39m(output_file_name, \u001b[38;5;124m'\u001b[39m\u001b[38;5;124mw\u001b[39m\u001b[38;5;124m'\u001b[39m) \u001b[38;5;28;01mas\u001b[39;00m output_file:\n\u001b[0;32m      7\u001b[0m     \u001b[38;5;66;03m# Read the contents of the input file and write them to the output file.\u001b[39;00m\n\u001b[0;32m      8\u001b[0m     contents \u001b[38;5;241m=\u001b[39m input_file\u001b[38;5;241m.\u001b[39mread()\n\u001b[0;32m      9\u001b[0m     output_file\u001b[38;5;241m.\u001b[39mwrite(contents)\n",
      "\u001b[1;31mFileNotFoundError\u001b[0m: [Errno 2] No such file or directory: 'mary.text'"
     ]
    }
   ],
   "source": [
    "\n",
    "# Prompt the user for the input and output file names.\n",
    "input_file_name = input(\"Enter input file name: \")\n",
    "output_file_name = input(\"Enter output file name: \")\n",
    "\n",
    "# Open the input and output files.\n",
    "with open(input_file_name, 'r') as input_file, open(output_file_name, 'w') as output_file:\n",
    "    # Read the contents of the input file and write them to the output file.\n",
    "    contents = input_file.read()\n",
    "    output_file.write(contents)"
   ]
  },
  {
   "cell_type": "code",
   "execution_count": 12,
   "id": "b374a192",
   "metadata": {},
   "outputs": [
    {
     "ename": "FileNotFoundError",
     "evalue": "[Errno 2] No such file or directory: '-f'",
     "output_type": "error",
     "traceback": [
      "\u001b[1;31m---------------------------------------------------------------------------\u001b[0m",
      "\u001b[1;31mFileNotFoundError\u001b[0m                         Traceback (most recent call last)",
      "Cell \u001b[1;32mIn [12], line 8\u001b[0m\n\u001b[0;32m      5\u001b[0m output_file \u001b[38;5;241m=\u001b[39m sys\u001b[38;5;241m.\u001b[39margv[\u001b[38;5;241m2\u001b[39m]\n\u001b[0;32m      7\u001b[0m \u001b[38;5;66;03m# Open the files.\u001b[39;00m\n\u001b[1;32m----> 8\u001b[0m \u001b[38;5;28;01mwith\u001b[39;00m \u001b[38;5;28mopen\u001b[39m(input_file, \u001b[38;5;124m'\u001b[39m\u001b[38;5;124mrb\u001b[39m\u001b[38;5;124m'\u001b[39m) \u001b[38;5;28;01mas\u001b[39;00m fin, \u001b[38;5;28mopen\u001b[39m(output_file, \u001b[38;5;124m'\u001b[39m\u001b[38;5;124mwb\u001b[39m\u001b[38;5;124m'\u001b[39m) \u001b[38;5;28;01mas\u001b[39;00m fout:\n\u001b[0;32m      9\u001b[0m     \u001b[38;5;66;03m# Read the data from the input file and save it in the output file.\u001b[39;00m\n\u001b[0;32m     10\u001b[0m     data \u001b[38;5;241m=\u001b[39m fin\u001b[38;5;241m.\u001b[39mread()\n\u001b[0;32m     11\u001b[0m     fout\u001b[38;5;241m.\u001b[39mwrite(data)\n",
      "\u001b[1;31mFileNotFoundError\u001b[0m: [Errno 2] No such file or directory: '-f'"
     ]
    }
   ],
   "source": [
    "import sys\n",
    "\n",
    "# Read in file names\n",
    "input_file = sys.argv[1]\n",
    "output_file = sys.argv[2]\n",
    "\n",
    "# Open the files.\n",
    "with open(input_file, 'rb') as fin, open(output_file, 'wb') as fout:\n",
    "    # Read the data from the input file and save it in the output file.\n",
    "    data = fin.read()\n",
    "    fout.write(data)\n"
   ]
  },
  {
   "cell_type": "markdown",
   "id": "cf5e467c",
   "metadata": {},
   "source": [
    "# In this program, we use the input() function to prompt the user for the name of the text file containing the photo file names.\n",
    "\n",
    "We then use the with statement to open the text file in read mode.\n",
    "\n",
    "We then use a for loop to iterate over the lines of the text file. For each line, we use the rstrip() method to remove the newline character at the end of the line. We then use the replace() method to replace the \"_photo.jpg\" portion of the file name with \"_info.txt\". Finally, we output the modified file name using the print() function.\n",
    "\n",
    "Note that this program assumes that the text file contains one photo file name per line, with no additional whitespace. If the text file contains additional whitespace, you may need to use additional string methods to process the lines."
   ]
  },
  {
   "cell_type": "code",
   "execution_count": 16,
   "id": "edbaf455",
   "metadata": {},
   "outputs": [
    {
     "name": "stdout",
     "output_type": "stream",
     "text": [
      "Enter the name of the text file: pa\n"
     ]
    },
    {
     "ename": "FileNotFoundError",
     "evalue": "[Errno 2] No such file or directory: 'pa'",
     "output_type": "error",
     "traceback": [
      "\u001b[1;31m---------------------------------------------------------------------------\u001b[0m",
      "\u001b[1;31mFileNotFoundError\u001b[0m                         Traceback (most recent call last)",
      "Cell \u001b[1;32mIn [16], line 5\u001b[0m\n\u001b[0;32m      2\u001b[0m filename \u001b[38;5;241m=\u001b[39m \u001b[38;5;28minput\u001b[39m(\u001b[38;5;124m\"\u001b[39m\u001b[38;5;124mEnter the name of the text file: \u001b[39m\u001b[38;5;124m\"\u001b[39m)\n\u001b[0;32m      4\u001b[0m \u001b[38;5;66;03m# Open the text file.\u001b[39;00m\n\u001b[1;32m----> 5\u001b[0m \u001b[38;5;28;01mwith\u001b[39;00m \u001b[38;5;28mopen\u001b[39m(filename, \u001b[38;5;124m'\u001b[39m\u001b[38;5;124mr\u001b[39m\u001b[38;5;124m'\u001b[39m) \u001b[38;5;28;01mas\u001b[39;00m file:\n\u001b[0;32m      6\u001b[0m     \u001b[38;5;66;03m# Read the lines of the text file and process each one.\u001b[39;00m\n\u001b[0;32m      7\u001b[0m     \u001b[38;5;28;01mfor\u001b[39;00m line \u001b[38;5;129;01min\u001b[39;00m file:\n\u001b[0;32m      8\u001b[0m         \u001b[38;5;66;03m# Remove the newline character at the end of the line.\u001b[39;00m\n\u001b[0;32m      9\u001b[0m         line \u001b[38;5;241m=\u001b[39m line\u001b[38;5;241m.\u001b[39mrstrip(\u001b[38;5;124m'\u001b[39m\u001b[38;5;130;01m\\n\u001b[39;00m\u001b[38;5;124m'\u001b[39m)\n",
      "\u001b[1;31mFileNotFoundError\u001b[0m: [Errno 2] No such file or directory: 'pa'"
     ]
    }
   ],
   "source": [
    "# Read the name of the text file containing the photo file names.\n",
    "filename = input(\"Enter the name of the text file: \")\n",
    "\n",
    "# Open the text file.\n",
    "with open(filename, 'r') as file:\n",
    "    # Read the lines of the text file and process each one.\n",
    "    for line in file:\n",
    "        # Remove the newline character at the end of the line.\n",
    "        line = line.rstrip('\\n')\n",
    "        # Replace the \"_photo.jpg\" portion of the file name with \"_info.txt\".\n",
    "        new_line = line.replace(\"_photo.jpg\", \"_info.txt\")\n",
    "        # Output the modified file name.\n",
    "        print(new_line)\n",
    "\n",
    "\n",
    "\n",
    "\n",
    "\n"
   ]
  },
  {
   "cell_type": "markdown",
   "id": "4e97eb92",
   "metadata": {},
   "source": [
    "# Counting chars, words, and lines in a file\n",
    "## Write a program that asks the user for a file name and prints the number of characters, words, and lines in that file."
   ]
  },
  {
   "cell_type": "code",
   "execution_count": 17,
   "id": "9759c783",
   "metadata": {},
   "outputs": [
    {
     "name": "stdout",
     "output_type": "stream",
     "text": [
      "Enter the file name: marry had a litle lamb\n"
     ]
    },
    {
     "ename": "FileNotFoundError",
     "evalue": "[Errno 2] No such file or directory: 'marry had a litle lamb'",
     "output_type": "error",
     "traceback": [
      "\u001b[1;31m---------------------------------------------------------------------------\u001b[0m",
      "\u001b[1;31mFileNotFoundError\u001b[0m                         Traceback (most recent call last)",
      "Cell \u001b[1;32mIn [17], line 10\u001b[0m\n\u001b[0;32m      7\u001b[0m line_count \u001b[38;5;241m=\u001b[39m \u001b[38;5;241m0\u001b[39m\n\u001b[0;32m      9\u001b[0m \u001b[38;5;66;03m# Open the file in read mode.\u001b[39;00m\n\u001b[1;32m---> 10\u001b[0m \u001b[38;5;28;01mwith\u001b[39;00m \u001b[38;5;28mopen\u001b[39m(filename, \u001b[38;5;124m'\u001b[39m\u001b[38;5;124mr\u001b[39m\u001b[38;5;124m'\u001b[39m) \u001b[38;5;28;01mas\u001b[39;00m file:\n\u001b[0;32m     11\u001b[0m     \u001b[38;5;66;03m# Read the lines of the file and process each one.\u001b[39;00m\n\u001b[0;32m     12\u001b[0m     \u001b[38;5;28;01mfor\u001b[39;00m line \u001b[38;5;129;01min\u001b[39;00m file:\n\u001b[0;32m     13\u001b[0m         \u001b[38;5;66;03m# Increment the line count.\u001b[39;00m\n\u001b[0;32m     14\u001b[0m         line_count \u001b[38;5;241m+\u001b[39m\u001b[38;5;241m=\u001b[39m \u001b[38;5;241m1\u001b[39m\n",
      "\u001b[1;31mFileNotFoundError\u001b[0m: [Errno 2] No such file or directory: 'marry had a litle lamb'"
     ]
    }
   ],
   "source": [
    "# Ask the user for the file name.\n",
    "filename = input(\"Enter the input file name: \")\n",
    "\n",
    "# Initialize the character, word, and line counts to zero.\n",
    "char_count = 0\n",
    "word_count = 0\n",
    "line_count = 0\n",
    "\n",
    "# Open the file in read mode.\n",
    "with open(filename, 'r') as file:\n",
    "    # Read the lines of the file and process each one.\n",
    "    for line in file:\n",
    "        # Increment the line count.\n",
    "        line_count += 1\n",
    "        # Split the line into words.\n",
    "        words = line.split()\n",
    "        # Increment the word count by the number of words in the line.\n",
    "        word_count += len(words)\n",
    "        # Increment the character count by the length of the line.\n",
    "        char_count += len(line)\n",
    "\n",
    "# Print the results.\n",
    "print(f\"The file contains {char_count} characters, {word_count} words and {line_count} lines\")"
   ]
  },
  {
   "cell_type": "markdown",
   "id": "5fcfe3e4",
   "metadata": {},
   "source": [
    "# Reading lines of a file\n",
    "## Write a program that prompts a user for the input and output file names. Read each line of the file containing text and send it to the output file, preceded by line numbers."
   ]
  },
  {
   "cell_type": "code",
   "execution_count": 18,
   "id": "943b4ceb",
   "metadata": {},
   "outputs": [
    {
     "name": "stdout",
     "output_type": "stream",
     "text": [
      "Enter the input file name: a\n",
      "Enter the output file name: v\n"
     ]
    },
    {
     "ename": "FileNotFoundError",
     "evalue": "[Errno 2] No such file or directory: 'a'",
     "output_type": "error",
     "traceback": [
      "\u001b[1;31m---------------------------------------------------------------------------\u001b[0m",
      "\u001b[1;31mFileNotFoundError\u001b[0m                         Traceback (most recent call last)",
      "Cell \u001b[1;32mIn [18], line 6\u001b[0m\n\u001b[0;32m      3\u001b[0m output_filename \u001b[38;5;241m=\u001b[39m \u001b[38;5;28minput\u001b[39m(\u001b[38;5;124m\"\u001b[39m\u001b[38;5;124mEnter the output file name: \u001b[39m\u001b[38;5;124m\"\u001b[39m)\n\u001b[0;32m      5\u001b[0m \u001b[38;5;66;03m# Open the input and output files.\u001b[39;00m\n\u001b[1;32m----> 6\u001b[0m \u001b[38;5;28;01mwith\u001b[39;00m \u001b[38;5;28mopen\u001b[39m(input_filename, \u001b[38;5;124m'\u001b[39m\u001b[38;5;124mr\u001b[39m\u001b[38;5;124m'\u001b[39m) \u001b[38;5;28;01mas\u001b[39;00m input_file, \u001b[38;5;28mopen\u001b[39m(output_filename, \u001b[38;5;124m'\u001b[39m\u001b[38;5;124mw\u001b[39m\u001b[38;5;124m'\u001b[39m) \u001b[38;5;28;01mas\u001b[39;00m output_file:\n\u001b[0;32m      7\u001b[0m     \u001b[38;5;66;03m# Initialize the line number to 1.\u001b[39;00m\n\u001b[0;32m      8\u001b[0m     line_number \u001b[38;5;241m=\u001b[39m \u001b[38;5;241m1\u001b[39m\n\u001b[0;32m     10\u001b[0m     \u001b[38;5;66;03m# Read each line of the input file and write it to the output file with the line number.\u001b[39;00m\n",
      "\u001b[1;31mFileNotFoundError\u001b[0m: [Errno 2] No such file or directory: 'a'"
     ]
    }
   ],
   "source": [
    "# Prompt the user for the input and output file names.\n",
    "input_filename = input(\"Enter the input file name: \")\n",
    "output_filename = input(\"Enter the output file name: \")\n",
    "\n",
    "# Open the input and output files.\n",
    "with open(input_filename, 'r') as input_file, open(output_filename, 'w') as output_file:\n",
    "    # Initialize the line number to 1.\n",
    "    line_number = 1\n",
    "    \n",
    "    # Read each line of the input file and write it to the output file with the line number.\n",
    "    for line in input_file:\n",
    "        output_file.write(\"/* %d */ %s\" % (line_number, line))\n",
    "        line_number += 1\n"
   ]
  },
  {
   "cell_type": "markdown",
   "id": "149547d8",
   "metadata": {},
   "source": [
    "# Reverse lines in a file\n",
    "## Write a program that reads each line in a file, reverses its lines, and writes them to another file."
   ]
  },
  {
   "cell_type": "code",
   "execution_count": 29,
   "id": "e98199d3",
   "metadata": {},
   "outputs": [
    {
     "name": "stdout",
     "output_type": "stream",
     "text": [
      "Enter input file name: mary.text\\\n"
     ]
    },
    {
     "ename": "KeyboardInterrupt",
     "evalue": "Interrupted by user",
     "output_type": "error",
     "traceback": [
      "\u001b[1;31m---------------------------------------------------------------------------\u001b[0m",
      "\u001b[1;31mKeyboardInterrupt\u001b[0m                         Traceback (most recent call last)",
      "Cell \u001b[1;32mIn [29], line 2\u001b[0m\n\u001b[0;32m      1\u001b[0m input_file \u001b[38;5;241m=\u001b[39m \u001b[38;5;28minput\u001b[39m(\u001b[38;5;124m\"\u001b[39m\u001b[38;5;124mEnter input file name: \u001b[39m\u001b[38;5;124m\"\u001b[39m)\n\u001b[1;32m----> 2\u001b[0m output_file \u001b[38;5;241m=\u001b[39m \u001b[38;5;28minput\u001b[39m(\u001b[38;5;124m\"\u001b[39m\u001b[38;5;124mEnter output file name: \u001b[39m\u001b[38;5;124m\"\u001b[39m)\n\u001b[0;32m      4\u001b[0m \u001b[38;5;28;01mwith\u001b[39;00m \u001b[38;5;28mopen\u001b[39m(input_file, \u001b[38;5;124m'\u001b[39m\u001b[38;5;124mr\u001b[39m\u001b[38;5;124m'\u001b[39m) \u001b[38;5;28;01mas\u001b[39;00m infile:\n\u001b[0;32m      5\u001b[0m     lines \u001b[38;5;241m=\u001b[39m infile\u001b[38;5;241m.\u001b[39mreadlines()\n",
      "File \u001b[1;32mC:\\Python310\\lib\\site-packages\\ipykernel\\kernelbase.py:1177\u001b[0m, in \u001b[0;36mKernel.raw_input\u001b[1;34m(self, prompt)\u001b[0m\n\u001b[0;32m   1173\u001b[0m \u001b[38;5;28;01mif\u001b[39;00m \u001b[38;5;129;01mnot\u001b[39;00m \u001b[38;5;28mself\u001b[39m\u001b[38;5;241m.\u001b[39m_allow_stdin:\n\u001b[0;32m   1174\u001b[0m     \u001b[38;5;28;01mraise\u001b[39;00m StdinNotImplementedError(\n\u001b[0;32m   1175\u001b[0m         \u001b[38;5;124m\"\u001b[39m\u001b[38;5;124mraw_input was called, but this frontend does not support input requests.\u001b[39m\u001b[38;5;124m\"\u001b[39m\n\u001b[0;32m   1176\u001b[0m     )\n\u001b[1;32m-> 1177\u001b[0m \u001b[38;5;28;01mreturn\u001b[39;00m \u001b[38;5;28;43mself\u001b[39;49m\u001b[38;5;241;43m.\u001b[39;49m\u001b[43m_input_request\u001b[49m\u001b[43m(\u001b[49m\n\u001b[0;32m   1178\u001b[0m \u001b[43m    \u001b[49m\u001b[38;5;28;43mstr\u001b[39;49m\u001b[43m(\u001b[49m\u001b[43mprompt\u001b[49m\u001b[43m)\u001b[49m\u001b[43m,\u001b[49m\n\u001b[0;32m   1179\u001b[0m \u001b[43m    \u001b[49m\u001b[38;5;28;43mself\u001b[39;49m\u001b[38;5;241;43m.\u001b[39;49m\u001b[43m_parent_ident\u001b[49m\u001b[43m[\u001b[49m\u001b[38;5;124;43m\"\u001b[39;49m\u001b[38;5;124;43mshell\u001b[39;49m\u001b[38;5;124;43m\"\u001b[39;49m\u001b[43m]\u001b[49m\u001b[43m,\u001b[49m\n\u001b[0;32m   1180\u001b[0m \u001b[43m    \u001b[49m\u001b[38;5;28;43mself\u001b[39;49m\u001b[38;5;241;43m.\u001b[39;49m\u001b[43mget_parent\u001b[49m\u001b[43m(\u001b[49m\u001b[38;5;124;43m\"\u001b[39;49m\u001b[38;5;124;43mshell\u001b[39;49m\u001b[38;5;124;43m\"\u001b[39;49m\u001b[43m)\u001b[49m\u001b[43m,\u001b[49m\n\u001b[0;32m   1181\u001b[0m \u001b[43m    \u001b[49m\u001b[43mpassword\u001b[49m\u001b[38;5;241;43m=\u001b[39;49m\u001b[38;5;28;43;01mFalse\u001b[39;49;00m\u001b[43m,\u001b[49m\n\u001b[0;32m   1182\u001b[0m \u001b[43m\u001b[49m\u001b[43m)\u001b[49m\n",
      "File \u001b[1;32mC:\\Python310\\lib\\site-packages\\ipykernel\\kernelbase.py:1219\u001b[0m, in \u001b[0;36mKernel._input_request\u001b[1;34m(self, prompt, ident, parent, password)\u001b[0m\n\u001b[0;32m   1216\u001b[0m             \u001b[38;5;28;01mbreak\u001b[39;00m\n\u001b[0;32m   1217\u001b[0m \u001b[38;5;28;01mexcept\u001b[39;00m \u001b[38;5;167;01mKeyboardInterrupt\u001b[39;00m:\n\u001b[0;32m   1218\u001b[0m     \u001b[38;5;66;03m# re-raise KeyboardInterrupt, to truncate traceback\u001b[39;00m\n\u001b[1;32m-> 1219\u001b[0m     \u001b[38;5;28;01mraise\u001b[39;00m \u001b[38;5;167;01mKeyboardInterrupt\u001b[39;00m(\u001b[38;5;124m\"\u001b[39m\u001b[38;5;124mInterrupted by user\u001b[39m\u001b[38;5;124m\"\u001b[39m) \u001b[38;5;28;01mfrom\u001b[39;00m \u001b[38;5;28mNone\u001b[39m\n\u001b[0;32m   1220\u001b[0m \u001b[38;5;28;01mexcept\u001b[39;00m \u001b[38;5;167;01mException\u001b[39;00m:\n\u001b[0;32m   1221\u001b[0m     \u001b[38;5;28mself\u001b[39m\u001b[38;5;241m.\u001b[39mlog\u001b[38;5;241m.\u001b[39mwarning(\u001b[38;5;124m\"\u001b[39m\u001b[38;5;124mInvalid Message:\u001b[39m\u001b[38;5;124m\"\u001b[39m, exc_info\u001b[38;5;241m=\u001b[39m\u001b[38;5;28;01mTrue\u001b[39;00m)\n",
      "\u001b[1;31mKeyboardInterrupt\u001b[0m: Interrupted by user"
     ]
    }
   ],
   "source": [
    "input_file = input(\"Enter input file name: \")\n",
    "output_file = input(\"Enter output file name: \")\n",
    "\n",
    "with open(input_file, 'r') as infile:\n",
    "    lines = infile.readlines()\n",
    "\n",
    "with open(output_file, 'w') as outfile:\n",
    "    for line in reversed(lines):\n",
    "        outfile.write(line)\n"
   ]
  },
  {
   "cell_type": "markdown",
   "id": "af8562e8",
   "metadata": {},
   "source": [
    "# Concatenate files into one file\n",
    "## Write a program that creates of list of input file names and then concatenates the contents of these input files into one file. The following example shows the concatenation of two files, but the program should be able to handle additional files."
   ]
  },
  {
   "cell_type": "code",
   "execution_count": 28,
   "id": "f1c69e9e",
   "metadata": {},
   "outputs": [
    {
     "name": "stdout",
     "output_type": "stream",
     "text": [
      "Enter input file name (blank line to quit): \n",
      "Enter output file name: \n"
     ]
    },
    {
     "ename": "FileNotFoundError",
     "evalue": "[Errno 2] No such file or directory: ''",
     "output_type": "error",
     "traceback": [
      "\u001b[1;31m---------------------------------------------------------------------------\u001b[0m",
      "\u001b[1;31mFileNotFoundError\u001b[0m                         Traceback (most recent call last)",
      "Cell \u001b[1;32mIn [28], line 10\u001b[0m\n\u001b[0;32m      6\u001b[0m     input_files\u001b[38;5;241m.\u001b[39mappend(filename)\n\u001b[0;32m      8\u001b[0m output_file \u001b[38;5;241m=\u001b[39m \u001b[38;5;28minput\u001b[39m(\u001b[38;5;124m\"\u001b[39m\u001b[38;5;124mEnter output file name: \u001b[39m\u001b[38;5;124m\"\u001b[39m)\n\u001b[1;32m---> 10\u001b[0m \u001b[38;5;28;01mwith\u001b[39;00m \u001b[38;5;28mopen\u001b[39m(output_file, \u001b[38;5;124m'\u001b[39m\u001b[38;5;124mw\u001b[39m\u001b[38;5;124m'\u001b[39m) \u001b[38;5;28;01mas\u001b[39;00m outfile:\n\u001b[0;32m     11\u001b[0m     \u001b[38;5;28;01mfor\u001b[39;00m infile_name \u001b[38;5;129;01min\u001b[39;00m input_files:\n\u001b[0;32m     12\u001b[0m         \u001b[38;5;28;01mwith\u001b[39;00m \u001b[38;5;28mopen\u001b[39m(infile_name) \u001b[38;5;28;01mas\u001b[39;00m infile:\n",
      "\u001b[1;31mFileNotFoundError\u001b[0m: [Errno 2] No such file or directory: ''"
     ]
    }
   ],
   "source": [
    "input_files = []\n",
    "while True:\n",
    "    filename = input(\"Enter input file name (blank line to quit): \")\n",
    "    if not filename:\n",
    "        break\n",
    "    input_files.append(filename)\n",
    "\n",
    "output_file = input(\"Enter output file name: \")\n",
    "\n",
    "with open(output_file, 'w') as outfile:\n",
    "    for infile_name in input_files:\n",
    "        with open(infile_name) as infile:\n",
    "            outfile.write(infile.read())\n"
   ]
  },
  {
   "cell_type": "markdown",
   "id": "8bbaacf2",
   "metadata": {},
   "source": [
    "# Simple dictionary\n",
    "## Given the following dictionary:"
   ]
  },
  {
   "cell_type": "code",
   "execution_count": 31,
   "id": "3ea197e9",
   "metadata": {},
   "outputs": [
    {
     "name": "stdout",
     "output_type": "stream",
     "text": [
      "All the keys:\n",
      "A\n",
      "D\n",
      "B\n",
      "F\n",
      "C\n",
      "\n",
      "All the values:\n",
      "8\n",
      "3\n",
      "15\n",
      "2\n",
      "6\n",
      "\n",
      "All the key and value pairs:\n",
      "A 8\n",
      "D 3\n",
      "B 15\n",
      "F 2\n",
      "C 6\n",
      "\n",
      "All the key and value pairs in key order:\n",
      "A 8\n",
      "B 15\n",
      "C 6\n",
      "D 3\n",
      "F 2\n"
     ]
    }
   ],
   "source": [
    "gradeCounts = {\"A\": 8, \"D\": 3, \"B\": 15, \"F\": 2, \"C\": 6}\n",
    "\n",
    "# Print all the keys\n",
    "print(\"All the keys:\")\n",
    "for key in gradeCounts.keys():\n",
    "    print(key)\n",
    "\n",
    "# Print all the values\n",
    "print(\"\\nAll the values:\")\n",
    "for value in gradeCounts.values():\n",
    "    print(value)\n",
    "\n",
    "# Print all the key and value pairs\n",
    "print(\"\\nAll the key and value pairs:\")\n",
    "for key, value in gradeCounts.items():\n",
    "    print(f\"key, value)\n",
    "\n",
    "# Print all the key and value pairs in key order\n",
    "print(\"\\nAll the key and value pairs in key order:\")\n",
    "for key in sorted(gradeCounts.keys()):\n",
    "    print(key, gradeCounts[key])\n"
   ]
  },
  {
   "cell_type": "code",
   "execution_count": 32,
   "id": "60c9d1db",
   "metadata": {},
   "outputs": [
    {
     "name": "stdout",
     "output_type": "stream",
     "text": [
      "The keys:\n",
      "A\n",
      "D\n",
      "B\n",
      "F\n",
      "C\n",
      "\n",
      "The values:\n",
      "8\n",
      "3\n",
      "15\n",
      "2\n",
      "6\n",
      "\n",
      "The key and value pairs:\n",
      "A: 8\n",
      "D: 3\n",
      "B: 15\n",
      "F: 2\n",
      "C: 6\n",
      "\n",
      "The ordered key and value pairs:\n",
      "A: 8\n",
      "B: 15\n",
      "C: 6\n",
      "D: 3\n",
      "F: 2\n"
     ]
    }
   ],
   "source": [
    "gradeCounts = {\"A\": 8, \"D\": 3, \"B\": 15, \"F\": 2, \"C\": 6}\n",
    "\n",
    " \n"
   ]
  },
  {
   "cell_type": "markdown",
   "id": "3e20d175",
   "metadata": {},
   "source": [
    "##  Set of upper and lowercase letters\n",
    "#### Write a function def letters(s) that gets the letters of string as a set.\n",
    "\n"
   ]
  },
  {
   "cell_type": "code",
   "execution_count": 1,
   "id": "2cad1b8b",
   "metadata": {},
   "outputs": [
    {
     "name": "stdout",
     "output_type": "stream",
     "text": [
      "the set returned is: {'d', 't', 'i', 'r', 'u', 'o', 'a', 'p', 'y', 'H', 'h', 'B'}\n"
     ]
    }
   ],
   "source": [
    "def letters(s):\n",
    "    letter_set = set()\n",
    "    for char in s:\n",
    "        if char.isalpha():\n",
    "            letter_set.add(char)\n",
    "    return letter_set\n",
    "input_string = \"Happy Birthday to you!\"\n",
    "result_set = letters(input_string)\n",
    "print(f\"the set returned is: {result_set}\" )\n"
   ]
  },
  {
   "cell_type": "markdown",
   "id": "2abfd0a8",
   "metadata": {},
   "source": [
    "## Find intersection of two sets\n",
    "### Rewrite the function def letters(s) from Lab 8.2 (Set of upper and lowercase letters) and add another function, def lettersInBoth(str1, str2) that identifies letters that are in both strings.\n",
    "\n",
    "### You will want to use the letters function as a helper function to convert the two strings to sets and then use a set operation to return the set of common letters."
   ]
  },
  {
   "cell_type": "code",
   "execution_count": 23,
   "id": "3b480c89",
   "metadata": {},
   "outputs": [
    {
     "name": "stdout",
     "output_type": "stream",
     "text": [
      "the return set is: <function lettersInBoth at 0x00000196A7C648B0>\n"
     ]
    }
   ],
   "source": [
    "def letters(s):\n",
    "    \"\"\"\n",
    "    Returns a set of all the upper and lowercase letters in a string.\n",
    "    \"\"\"\n",
    "    return set(filter(str.isalpha, s))\n",
    "\n",
    "def lettersInBoth(str1, str2):\n",
    "    \"\"\"\n",
    "    Returns a set of letters that are in both str1 and str2.\n",
    "    \"\"\"\n",
    "    set1 = letters(str1)\n",
    "    set2 = letters(str2)\n",
    "    return set1.intersection(set2)\n",
    "\n",
    "print(\"the return set is:\",lettersInBoth(\"Hello World, how are you?\",\"Happy day to you sir!\"))"
   ]
  },
  {
   "cell_type": "markdown",
   "id": "1bb47bb9",
   "metadata": {},
   "source": [
    "## Find letters that are not in either string\n",
    "### Rewrite the function def letters(s) from Lab 8.2 (Set of upper and lowercase letters) and add another function, def notInEither(str1, str2) that identifies letters that are not in either string.\n",
    "\n",
    "### You will want to use the letters function as a helper function to convert the two strings to sets and then use a set operation to return the set of letters not in either string.\n",
    "\n",
    "### You will need to create a set of \"all\" possible letters to use in the notInEither function.\n",
    "####  You can use: allLetters = set(list(\"ABCDEFGHIJKLMNOPQRSTUVWXYZ\" + \"abcdefghijklmnopqrstuvwxyz\"))"
   ]
  },
  {
   "cell_type": "code",
   "execution_count": 25,
   "id": "eedd0213",
   "metadata": {},
   "outputs": [
    {
     "name": "stdout",
     "output_type": "stream",
     "text": [
      "the return set is: {'b', 'D', 'L', 'F', 'U', 'j', 'q', 'K', 'N', 'J', 'P', 'V', 'C', 'x', 'O', 'y', 'B', 'R', 'G', 'E', 'z', 'A', 'Q', 'Y', 'S', 'Z', 'M', 'X'}\n"
     ]
    }
   ],
   "source": [
    "def letters(s):\n",
    "    \"\"\"\n",
    "    Returns a set of all uppercase and lowercase letters in a given string.\n",
    "    \"\"\"\n",
    "    return set(c for c in s if c.isalpha())\n",
    "\n",
    "def notInEither(str1, str2):\n",
    "    \"\"\"\n",
    "    Returns a set of letters that are not present in either str1 or str2.\n",
    "    \"\"\"\n",
    "    allLetters = set(list(\"ABCDEFGHIJKLMNOPQRSTUVWXYZ\" + \"abcdefghijklmnopqrstuvwxyz\"))\n",
    "    set1 = letters(str1)\n",
    "    set2 = letters(str2)\n",
    "    return allLetters.difference(set1.union(set2))\n",
    "print(\"the return set is:\",notInEither(\"Whose woods these are I think I know. His house is in the village though;\",\"He will not see me stopping here To watch his woods fill up with snow.\"))"
   ]
  },
  {
   "cell_type": "markdown",
   "id": "4f09f8bb",
   "metadata": {},
   "source": [
    "## Dictionary to count words\n",
    "### Write a program that reads in a text file, and creates a dictionary to count how often each word occurs in the file. You will need a nested for loop to find the count."
   ]
  },
  {
   "cell_type": "code",
   "execution_count": 26,
   "id": "ce9d06c9",
   "metadata": {},
   "outputs": [
    {
     "name": "stdout",
     "output_type": "stream",
     "text": [
      "Enter the name of a file: mary.text\n"
     ]
    },
    {
     "ename": "FileNotFoundError",
     "evalue": "[Errno 2] No such file or directory: 'mary.text'",
     "output_type": "error",
     "traceback": [
      "\u001b[1;31m---------------------------------------------------------------------------\u001b[0m",
      "\u001b[1;31mFileNotFoundError\u001b[0m                         Traceback (most recent call last)",
      "Cell \u001b[1;32mIn [26], line 8\u001b[0m\n\u001b[0;32m      5\u001b[0m word_counts \u001b[38;5;241m=\u001b[39m {}\n\u001b[0;32m      7\u001b[0m \u001b[38;5;66;03m# Open the file and loop over each line\u001b[39;00m\n\u001b[1;32m----> 8\u001b[0m \u001b[38;5;28;01mwith\u001b[39;00m \u001b[38;5;28mopen\u001b[39m(filename) \u001b[38;5;28;01mas\u001b[39;00m f:\n\u001b[0;32m      9\u001b[0m     \u001b[38;5;28;01mfor\u001b[39;00m line \u001b[38;5;129;01min\u001b[39;00m f:\n\u001b[0;32m     10\u001b[0m         \u001b[38;5;66;03m# Split the line into words\u001b[39;00m\n\u001b[0;32m     11\u001b[0m         words \u001b[38;5;241m=\u001b[39m line\u001b[38;5;241m.\u001b[39msplit()\n",
      "\u001b[1;31mFileNotFoundError\u001b[0m: [Errno 2] No such file or directory: 'mary.text'"
     ]
    }
   ],
   "source": [
    "# Prompt user for input file name\n",
    "filename = input(\"Enter the name of a file: \")\n",
    "\n",
    "# Initialize an empty dictionary to store word counts\n",
    "word_counts = {}\n",
    "\n",
    "# Open the file and loop over each line\n",
    "with open(filename) as f:\n",
    "    for line in f:\n",
    "        # Split the line into words\n",
    "        words = line.split()\n",
    "        # Loop over each word and update the count in the dictionary\n",
    "        for word in words:\n",
    "            # Convert the word to lowercase so that \"Mary\" and \"mary\" are treated as the same word\n",
    "            word = word.lower()\n",
    "            # Update the count in the dictionary\n",
    "            if word in word_counts:\n",
    "                word_counts[word] += 1\n",
    "            else:\n",
    "                word_counts[word] = 1\n",
    "\n",
    "# Sort the dictionary by word frequency (descending) and then alphabetically (ascending)\n",
    "sorted_word_counts = sorted(word_counts.items(), key=lambda x: (-x[1], x[0]))\n",
    "\n",
    "# Print out the sorted word counts\n",
    "for word, count in sorted_word_counts:\n",
    "    print(f\"the sorted output is: {word}: {count}\")\n"
   ]
  },
  {
   "cell_type": "code",
   "execution_count": null,
   "id": "1559024b",
   "metadata": {},
   "outputs": [],
   "source": []
  },
  {
   "cell_type": "code",
   "execution_count": 50,
   "id": "ff386705",
   "metadata": {},
   "outputs": [
    {
     "ename": "FileNotFoundError",
     "evalue": "[WinError 2] The system cannot find the file specified: '../nwe'",
     "output_type": "error",
     "traceback": [
      "\u001b[1;31m---------------------------------------------------------------------------\u001b[0m",
      "\u001b[1;31mFileNotFoundError\u001b[0m                         Traceback (most recent call last)",
      "Cell \u001b[1;32mIn [50], line 3\u001b[0m\n\u001b[0;32m      1\u001b[0m \u001b[38;5;28;01mimport\u001b[39;00m \u001b[38;5;21;01mos\u001b[39;00m\n\u001b[1;32m----> 3\u001b[0m os\u001b[38;5;241m.\u001b[39mlistdir(os\u001b[38;5;241m.\u001b[39mchdir(\u001b[38;5;124m\"\u001b[39m\u001b[38;5;124m../nwe\u001b[39m\u001b[38;5;124m\"\u001b[39m))\n\u001b[0;32m      5\u001b[0m filename \u001b[38;5;241m=\u001b[39m \u001b[38;5;28minput\u001b[39m(\u001b[38;5;124m\"\u001b[39m\u001b[38;5;124mEnter the name of a file: \u001b[39m\u001b[38;5;124m\"\u001b[39m)\n\u001b[0;32m      6\u001b[0m inf \u001b[38;5;241m=\u001b[39m \u001b[38;5;28mopen\u001b[39m(filename, \u001b[38;5;124m\"\u001b[39m\u001b[38;5;124mr\u001b[39m\u001b[38;5;124m\"\u001b[39m)\n",
      "\u001b[1;31mFileNotFoundError\u001b[0m: [WinError 2] The system cannot find the file specified: '../nwe'"
     ]
    }
   ],
   "source": [
    "filename = input(\"Enter the name of a file: \")\n",
    "inf = open(filename, \"r\")\n",
    "\n",
    "counts = {}\n",
    "\n",
    "for line in inf:\n",
    "    words = line.strip().split()\n",
    "    for word in words:\n",
    "        #word = word.lower() # convert to lowercase\n",
    "        if word in counts:\n",
    "            counts[word] += 1\n",
    "        else:\n",
    "            counts[word] = 1\n",
    "\n",
    "# Close the file\n",
    "\n",
    "inf.close()\n",
    "\n",
    "for word in sorted(counts):\n",
    "    print(f\"{word}: {counts[word]}\")\n"
   ]
  },
  {
   "cell_type": "markdown",
   "id": "b8d9d22b",
   "metadata": {},
   "source": [
    "## Modify Dictionary to count words\n",
    "### A useful application for a dictionary is to remember, or cache, previously obtained results so that they can be retrieved from the cache when they are requested again. We are going to modify the word_count.py program from LAB 8.5 so that the user can repeatedly enter files names. If the user enters the filename more than once, look up the answer from a dictionary instead of counting the words in the file again. We will have 2 Dictionaries - one from Lab 8.5 to hold the word count, counts and another new one, cache to hold the filenames."
   ]
  },
  {
   "cell_type": "code",
   "execution_count": 51,
   "id": "bba68a4e",
   "metadata": {},
   "outputs": [
    {
     "name": "stdout",
     "output_type": "stream",
     "text": [
      "Enter the name of a file (or quit to quit): quit\n"
     ]
    }
   ],
   "source": [
    "# create the dictionaries\n",
    "counts = {}\n",
    "cache = {}\n",
    "\n",
    "# read the first file name from the user\n",
    "filename = input(\"Enter the name of a file (or quit to quit): \")\n",
    "\n",
    "# loop until the user chooses to quit\n",
    "while filename != \"quit\":\n",
    "    # handle the case where we have read the file previously\n",
    "    if filename in cache:\n",
    "        counts = cache[filename]\n",
    "        print(f\"Using cached results for {filename}:\")\n",
    "    # handle the case where we have not read the file previously\n",
    "    else:\n",
    "        # open the file for reading\n",
    "        try:\n",
    "            with open(filename, 'r') as file:\n",
    "                # create a new empty dictionary\n",
    "                counts = {}\n",
    "                # count the words in the file\n",
    "                for line in file:\n",
    "                    words = line.split()\n",
    "                    for word in words:\n",
    "                        counts[word] = counts.get(word, 0) + 1\n",
    "                # close the file\n",
    "        except FileNotFoundError:\n",
    "            print(f\"File {filename} not found\")\n",
    "            filename = input(\"Enter the name of a file (or quit to quit): \")\n",
    "            continue\n",
    "        print(f\"Counting words in {filename}:\")\n",
    "        # store the counts into the cache dictionary\n",
    "        cache[filename] = counts\n",
    "\n",
    "    # display the counts\n",
    "    for word in sorted(counts):\n",
    "        print(f\"{word}: {counts[word]}\")\n",
    "\n",
    "    # read the next file name from the user\n",
    "    filename = input(\"Enter the name of a file (or quit to quit): \")\n"
   ]
  },
  {
   "cell_type": "code",
   "execution_count": 52,
   "id": "c02f08d2",
   "metadata": {},
   "outputs": [
    {
     "name": "stdout",
     "output_type": "stream",
     "text": [
      "Enter the name of a file (or quit to quit): quit\n"
     ]
    }
   ],
   "source": [
    "import string\n",
    "\n",
    "# Initialize the dictionaries\n",
    "counts = {}\n",
    "cache = {}\n",
    "\n",
    "# Define a function to count the words in a file\n",
    "def word_count(filename):\n",
    "    # Check if the filename is already in the cache\n",
    "    if filename in cache:\n",
    "        print(\"Retrieving from cache...\")\n",
    "        return counts[filename]\n",
    "\n",
    "    # If the filename is not in the cache, count the words in the file\n",
    "    with open(filename, 'r') as file:\n",
    "        # Create a table of punctuation to remove from the words\n",
    "        translator = str.maketrans('', '', string.punctuation)\n",
    "        for line in file:\n",
    "            # Remove punctuation and convert to lowercase\n",
    "            line = line.translate(translator).lower()\n",
    "            # Split the line into words\n",
    "            words = line.split()\n",
    "            # Count the words\n",
    "            for word in words:\n",
    "                if word in counts:\n",
    "                    counts[word] += 1\n",
    "                else:\n",
    "                    counts[word] = 1\n",
    "\n",
    "        # Add the filename to the cache\n",
    "        cache[filename] = counts.copy()\n",
    "        return counts\n",
    "\n",
    "# Prompt the user for filenames\n",
    "while True:\n",
    "    filename = input(\"Enter the name of a file (or quit to quit): \")\n",
    "    if filename == \"quit\":\n",
    "        break\n",
    "    # Count the words in the file\n",
    "    result = word_count(filename)\n",
    "    # Print the word counts\n",
    "    for word, count in result.items():\n",
    "        print(word + \": \" + str(count))\n"
   ]
  },
  {
   "cell_type": "markdown",
   "id": "790b494d",
   "metadata": {},
   "source": [
    "## Student grades\n"
   ]
  },
  {
   "cell_type": "code",
   "execution_count": null,
   "id": "5a9169cc",
   "metadata": {},
   "outputs": [
    {
     "name": "stdout",
     "output_type": "stream",
     "text": [
      "(A)dd, (R)emove, (M)odify, (P)rint all, or (Q)uit? a\n",
      "Enter the name of the student: b\n",
      "Enter the student's grade: c\n",
      "(A)dd, (R)emove, (M)odify, (P)rint all, or (Q)uit? a\n",
      "Enter the name of the student: a\n",
      "Enter the student's grade: names\n",
      "(A)dd, (R)emove, (M)odify, (P)rint all, or (Q)uit? s\n",
      "Invalid action. Please try again.\n",
      "(A)dd, (R)emove, (M)odify, (P)rint all, or (Q)uit? r\n",
      "What student do you want to remove? r\n",
      "Sorry, that student doesn't exist and couldn't be removed.\n",
      "(A)dd, (R)emove, (M)odify, (P)rint all, or (Q)uit? m\n",
      "Enter the name of the student to modify: m\n",
      "Sorry, that student doesn't exist and couldn't be modified.\n",
      "(A)dd, (R)emove, (M)odify, (P)rint all, or (Q)uit? sn\n",
      "Invalid action. Please try again.\n",
      "(A)dd, (R)emove, (M)odify, (P)rint all, or (Q)uit? p\n",
      "a: names\n",
      "b: c\n"
     ]
    }
   ],
   "source": [
    "grades = {}\n",
    "\n",
    "while True:\n",
    "    action = input(\"(A)dd, (R)emove, (M)odify, (P)rint all, or (Q)uit? \").lower()\n",
    "\n",
    "    if action == \"a\":\n",
    "        name = input(\"Enter the name of the student: \")\n",
    "        grade = input(\"Enter the student's grade: \")\n",
    "        grades[name] = grade\n",
    "\n",
    "    elif action == \"r\":\n",
    "        name = input(\"What student do you want to remove? \")\n",
    "        if name in grades:\n",
    "            del grades[name]\n",
    "        else:\n",
    "            print(\"Sorry, that student doesn't exist and couldn't be removed.\")\n",
    "\n",
    "    elif action == \"m\":\n",
    "        name = input(\"Enter the name of the student to modify: \")\n",
    "        if name in grades:\n",
    "            old_grade = grades[name]\n",
    "            new_grade = input(\"The old grade is {}. Enter the new grade: \".format(old_grade))\n",
    "            grades[name] = new_grade\n",
    "        else:\n",
    "            print(\"Sorry, that student doesn't exist and couldn't be modified.\")\n",
    "\n",
    "    elif action == \"p\":\n",
    "        for name, grade in sorted(grades.items()):\n",
    "            print(\"{}: {}\".format(name, grade))\n",
    "\n",
    "    elif action == \"q\":\n",
    "        print(\"Goodbye!\")\n",
    "        break\n",
    "\n",
    "    else:\n",
    "        print(\"Invalid action. Please try again.\")\n"
   ]
  },
  {
   "cell_type": "code",
   "execution_count": 4,
   "id": "8f5dbece",
   "metadata": {},
   "outputs": [
    {
     "name": "stdout",
     "output_type": "stream",
     "text": [
      "Louie\n",
      "1.0\n",
      "Felix\n",
      "3.7\n"
     ]
    }
   ],
   "source": [
    "\n",
    "## Setting up of student names and grades using class.\n",
    "\n",
    "class Student:\n",
    "    def __init__(self):\n",
    "        self.name = \"Louie\"\n",
    "        self.gpa = 1.0\n",
    "        \n",
    "    def set_name(self, name):\n",
    "        self.name = name\n",
    "        \n",
    "    def get_name(self):\n",
    "        return self.name\n",
    "        \n",
    "    def set_gpa(self, gpa):\n",
    "        self.gpa = gpa\n",
    "        \n",
    "    def get_gpa(self):\n",
    "        return self.gpa\n",
    "# Create a new student object with default values\n",
    "s = Student()\n",
    "\n",
    "# Print the default name and GPA\n",
    "print(s.get_name()) # Output: Louie\n",
    "print(s.get_gpa()) # Output: 1.0\n",
    "\n",
    "# Set the student's name to \"Felix\" and GPA to 3.7\n",
    "s.set_name(\"Felix\")\n",
    "s.set_gpa(3.7)\n",
    "\n",
    "# Print the updated name and GPA\n",
    "print(s.get_name()) # Output: Felix\n",
    "print(s.get_gpa()) # Output: 3.7\n",
    "\n",
    "\n"
   ]
  },
  {
   "cell_type": "code",
   "execution_count": 6,
   "id": "c4d2be4d",
   "metadata": {},
   "outputs": [
    {
     "name": "stdout",
     "output_type": "stream",
     "text": [
      "Andrew\n",
      "Woo\n",
      "3.6\n",
      "Le\n"
     ]
    }
   ],
   "source": [
    "## modify the function\n",
    "#  This module defines the Student class where a student has a first,\n",
    "# last name and gpa\n",
    "class Student:\n",
    "    def __init__(self, first, last, gpa):\n",
    "        self.first = first\n",
    "        self.last = last\n",
    "        self.gpa = gpa\n",
    "        \n",
    "    def set_first(self, first):\n",
    "        self.first = first\n",
    "        \n",
    "    def get_first(self):\n",
    "        return self.first\n",
    "        \n",
    "    def set_last(self, last):\n",
    "        self.last = last\n",
    "        \n",
    "    def get_last(self):\n",
    "        return self.last\n",
    "        \n",
    "    def set_gpa(self, gpa):\n",
    "        self.gpa = gpa\n",
    "        \n",
    "    def get_gpa(self):\n",
    "        return self.gpa\n",
    "# Create a new student object with first name \"Andrew\", last name \"Woo\", and GPA 3.6\n",
    "s = Student(\"Andrew\", \"Woo\", 3.6)\n",
    "\n",
    "# Print the student's name and GPA\n",
    "print(s.get_first()) # Output: Andrew\n",
    "print(s.get_last()) # Output: Woo\n",
    "print(s.get_gpa()) # Output: 3.6\n",
    "\n",
    "# Set the student's first name to \"Le\"\n",
    "s.set_first(\"Le\")\n",
    "\n",
    "# Print the updated first name\n",
    "print(s.get_first()) # Output: Le\n",
    "\n",
    "\n",
    "\n",
    "\n"
   ]
  },
  {
   "cell_type": "code",
   "execution_count": 8,
   "id": "794be0dc",
   "metadata": {},
   "outputs": [
    {
     "name": "stdout",
     "output_type": "stream",
     "text": [
      "Course size: 2\n"
     ]
    }
   ],
   "source": [
    "## Adding course class to the previous class.\n",
    "class Student:\n",
    "    def __init__(self, first, last, gpa):\n",
    "        self.first = first\n",
    "        self.last = last\n",
    "        self.gpa = gpa\n",
    "        \n",
    "    def get_first(self):\n",
    "        return self.first\n",
    "    \n",
    "    def get_last(self):\n",
    "        return self.last\n",
    "    \n",
    "    def get_gpa(self):\n",
    "        return self.gpa\n",
    "\n",
    "\n",
    "class Course:\n",
    "    def __init__(self):\n",
    "        self.roster = []\n",
    "        \n",
    "    def add_student(self, student):\n",
    "        self.roster.append(student)\n",
    "        \n",
    "    def course_size(self):\n",
    "        return len(self.roster)\n",
    "\n",
    "s1 = Student(\"Henry\", \"Bendel\", 3.6)\n",
    "s2 = Student(\"Johnny\", \"Min\", 2.9)\n",
    "\n",
    "c = Course()\n",
    "c.add_student(s1)\n",
    "c.add_student(s2)\n",
    "\n",
    "print(\"Course size:\", c.course_size())\n",
    "\n"
   ]
  }
 ],
 "metadata": {
  "kernelspec": {
   "display_name": "Python 3 (ipykernel)",
   "language": "python",
   "name": "python3"
  },
  "language_info": {
   "codemirror_mode": {
    "name": "ipython",
    "version": 3
   },
   "file_extension": ".py",
   "mimetype": "text/x-python",
   "name": "python",
   "nbconvert_exporter": "python",
   "pygments_lexer": "ipython3",
   "version": "3.10.7"
  }
 },
 "nbformat": 4,
 "nbformat_minor": 5
}
