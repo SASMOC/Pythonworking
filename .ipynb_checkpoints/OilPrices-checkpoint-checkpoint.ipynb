{
 "cells": [
  {
   "cell_type": "code",
   "execution_count": null,
   "id": "7f704136",
   "metadata": {},
   "outputs": [],
   "source": [
    "# Create an empty list\n",
    "values = []\n",
    "\n",
    "# Read in 10 numbers of type float and add them to the list\n",
    "MAX = 10\n",
    "for i in range(MAX):\n",
    "    value = float(input(\"Enter a number: \"))\n",
    "    values.append(value)\n",
    "\n",
    "# Display the list elements in the opposite order\n",
    "for i in range(MAX-1, -1,-1):\n",
    "    print(values[i])"
   ]
  },
  {
   "cell_type": "code",
   "execution_count": 2,
   "id": "b2be4985",
   "metadata": {},
   "outputs": [
    {
     "name": "stdout",
     "output_type": "stream",
     "text": [
      "Enter a number: 4\n",
      "Enter a number: 11\n",
      "Enter a number: -3\n",
      "Enter a number: 7\n",
      "Enter a number: 9\n",
      "Enter a number: 27\n",
      "Enter a number: 10\n",
      "Enter a number: 11\n",
      "Enter a number: 12\n",
      "Enter a number: 12\n",
      "12.0\n",
      "12.0\n",
      "11.0\n",
      "10.0\n",
      "27.0\n",
      "9.0\n",
      "7.0\n",
      "-3.0\n",
      "11.0\n",
      "4.0\n"
     ]
    }
   ],
   "source": [
    "# Create an empty list\n",
    "values = []\n",
    "\n",
    "# Read in 10 numbers of type float and add them to the list\n",
    "MAX = 10\n",
    "for i in range(MAX):\n",
    "    value = float(input(\"Enter a number: \"))\n",
    "    values.append(value)\n",
    "\n",
    "# Display the list elements in the opposite order\n",
    "for i in range(MAX-1, -1, -1):\n",
    "    print(values[i])\n"
   ]
  },
  {
   "cell_type": "code",
   "execution_count": 5,
   "id": "d78779f3",
   "metadata": {},
   "outputs": [
    {
     "name": "stdout",
     "output_type": "stream",
     "text": [
      "Enter a number: 2\n",
      "Enter a number: 3\n",
      "Enter a number: 3\n",
      "Enter a number: 4\n",
      "Enter a number: 6\n",
      "Enter a number: 17\n",
      "Enter a number: 21\n",
      "Enter a number: 15\n",
      "Enter a number: 15\n",
      "Enter a number: 9\n",
      "Enter a number: 16\n",
      "Enter a number: 4\n",
      "Enter a number: 32\n",
      "The list contains: [2.0, 3.0, 4.0, 6.0, 17.0, 21.0, 15.0, 9.0, 16.0, 32.0]\n"
     ]
    }
   ],
   "source": [
    "# Create an empty list\n",
    "values = []\n",
    "\n",
    "# Set the maximum number of integers to read in\n",
    "NUM_INTEGERS = 10\n",
    "\n",
    "# Read in numbers and add them to the list if they are not already contained in the list\n",
    "while len(values) < NUM_INTEGERS:\n",
    "    value = float(input(\"Enter a number: \"))\n",
    "    if value not in values:\n",
    "        values.append(value)\n",
    "\n",
    "# Display the contents of the list\n",
    "print(\"The list contains:\", values)\n"
   ]
  },
  {
   "cell_type": "code",
   "execution_count": 4,
   "id": "e0a4a6c7",
   "metadata": {},
   "outputs": [
    {
     "name": "stdout",
     "output_type": "stream",
     "text": [
      "Enter a number: 2\n",
      "Enter a number: 3\n",
      "Enter a number: 3\n",
      "Enter a number: 4\n",
      "Enter a number: 6\n",
      "Enter a number: 17\n",
      "Enter a number: 21\n",
      "Enter a number: 15\n",
      "Enter a number: 15\n",
      "Enter a number: 9\n",
      "Enter a number: 16\n",
      "Enter a number: 4\n",
      "Enter a number: 32\n",
      "The list contains: [2.0, 3.0, 4.0, 6.0, 17.0, 21.0, 15.0, 9.0, 16.0, 32.0]\n"
     ]
    }
   ],
   "source": [
    "# Create an empty list\n",
    "values = []\n",
    "\n",
    "# Set the maximum number of integers to read in\n",
    "NUM_INTEGERS = 10\n",
    "\n",
    "# Read in numbers and add them to the list if they are not already contained in the list\n",
    "while len(values) < NUM_INTEGERS:\n",
    "    value = float(input(\"Enter a number: \"))\n",
    "    if value not in values:\n",
    "        values.append(value)\n",
    "\n",
    "# Display the contents of the list\n",
    "print(\"The list contains:\", [round(value, 1) for value in values])\n"
   ]
  },
  {
   "cell_type": "code",
   "execution_count": 7,
   "id": "82aab60f",
   "metadata": {},
   "outputs": [
    {
     "name": "stdout",
     "output_type": "stream",
     "text": [
      "6\n"
     ]
    }
   ],
   "source": [
    "def multiples(lst, n):\n",
    "    count = 0\n",
    "    for num in lst:\n",
    "        if num % n == 0:\n",
    "            count += 1\n",
    "    return count\n",
    "lst = [17, 25, 5, 30, 100, 96, 48, 5, 14, 30]\n",
    "n = 5\n",
    "count = multiples(lst, n)\n",
    "print(count)"
   ]
  },
  {
   "cell_type": "code",
   "execution_count": 2,
   "id": "214a2722",
   "metadata": {},
   "outputs": [
    {
     "name": "stdout",
     "output_type": "stream",
     "text": [
      "Enter input file name: Mary had a little lamb\n",
      "Enter output file name: Whose fleece was white as snow.\n"
     ]
    },
    {
     "ename": "FileNotFoundError",
     "evalue": "[Errno 2] No such file or directory: 'Mary had a little lamb'",
     "output_type": "error",
     "traceback": [
      "\u001b[1;31m---------------------------------------------------------------------------\u001b[0m",
      "\u001b[1;31mFileNotFoundError\u001b[0m                         Traceback (most recent call last)",
      "Input \u001b[1;32mIn [2]\u001b[0m, in \u001b[0;36m<cell line: 6>\u001b[1;34m()\u001b[0m\n\u001b[0;32m      3\u001b[0m output_filename \u001b[38;5;241m=\u001b[39m \u001b[38;5;28minput\u001b[39m(\u001b[38;5;124m\"\u001b[39m\u001b[38;5;124mEnter output file name: \u001b[39m\u001b[38;5;124m\"\u001b[39m)\n\u001b[0;32m      5\u001b[0m \u001b[38;5;66;03m# open the input file in read mode and the output file in write mode\u001b[39;00m\n\u001b[1;32m----> 6\u001b[0m \u001b[38;5;28;01mwith\u001b[39;00m \u001b[38;5;28;43mopen\u001b[39;49m\u001b[43m(\u001b[49m\u001b[43minput_filename\u001b[49m\u001b[43m,\u001b[49m\u001b[43m \u001b[49m\u001b[38;5;124;43m\"\u001b[39;49m\u001b[38;5;124;43mr\u001b[39;49m\u001b[38;5;124;43m\"\u001b[39;49m\u001b[43m)\u001b[49m \u001b[38;5;28;01mas\u001b[39;00m input_file, \u001b[38;5;28mopen\u001b[39m(output_filename, \u001b[38;5;124m\"\u001b[39m\u001b[38;5;124mw\u001b[39m\u001b[38;5;124m\"\u001b[39m) \u001b[38;5;28;01mas\u001b[39;00m output_file:\n\u001b[0;32m      7\u001b[0m     \u001b[38;5;66;03m# read the contents of the input file and write them to the output file\u001b[39;00m\n\u001b[0;32m      8\u001b[0m     output_file\u001b[38;5;241m.\u001b[39mwrite(input_file\u001b[38;5;241m.\u001b[39mread())\n\u001b[0;32m     10\u001b[0m \u001b[38;5;66;03m# print a message to confirm that the copy was successful\u001b[39;00m\n",
      "\u001b[1;31mFileNotFoundError\u001b[0m: [Errno 2] No such file or directory: 'Mary had a little lamb'"
     ]
    }
   ],
   "source": [
    "# prompt the user for the input and output file names\n",
    "input_filename = input(\"Enter input file name: \")\n",
    "output_filename = input(\"Enter output file name: \")\n",
    "\n",
    "# open the input file in read mode and the output file in write mode\n",
    "with open(input_filename, \"r\") as input_file, open(output_filename, \"w\") as output_file:\n",
    "    # read the contents of the input file and write them to the output file\n",
    "    output_file.write(input_file.read())\n",
    "\n",
    "# print a message to confirm that the copy was successful\n",
    "print(\"File copied successfully.\")\n"
   ]
  },
  {
   "cell_type": "code",
   "execution_count": null,
   "id": "1018cd66",
   "metadata": {},
   "outputs": [],
   "source": []
  }
 ],
 "metadata": {
  "kernelspec": {
   "display_name": "Python 3 (ipykernel)",
   "language": "python",
   "name": "python3"
  },
  "language_info": {
   "codemirror_mode": {
    "name": "ipython",
    "version": 3
   },
   "file_extension": ".py",
   "mimetype": "text/x-python",
   "name": "python",
   "nbconvert_exporter": "python",
   "pygments_lexer": "ipython3",
   "version": "3.10.7"
  }
 },
 "nbformat": 4,
 "nbformat_minor": 5
}
