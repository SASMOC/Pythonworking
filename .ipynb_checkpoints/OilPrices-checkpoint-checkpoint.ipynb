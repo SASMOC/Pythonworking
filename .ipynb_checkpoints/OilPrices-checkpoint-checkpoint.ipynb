{
 "cells": [
  {
   "cell_type": "code",
   "execution_count": null,
   "id": "0af3e052",
   "metadata": {},
   "outputs": [
    {
     "name": "stdout",
     "output_type": "stream",
     "text": [
      "Enter a number: 4\n",
      "Enter a number: 11\n",
      "Enter a number: -3\n",
      "Enter a number: 7\n",
      "Enter a number: 9\n",
      "Enter a number: 27\n"
     ]
    }
   ],
   "source": [
    "# Create an empty list\n",
    "values = []\n",
    "\n",
    "# Read in 10 numbers of type float and add them to the list\n",
    "MAX = 10\n",
    "for i in range(MAX):\n",
    "    value = float(input(\"Enter a number: \"))\n",
    "    values.append(value)\n",
    "\n",
    "# Display the list elements in the opposite order\n",
    "for i in range(MAX-1, -1, -1):\n",
    "    print(values[i])"
   ]
  },
  {
   "cell_type": "code",
   "execution_count": null,
   "id": "996d2fe0",
   "metadata": {},
   "outputs": [],
   "source": []
  }
 ],
 "metadata": {
  "kernelspec": {
   "display_name": "Python 3 (ipykernel)",
   "language": "python",
   "name": "python3"
  },
  "language_info": {
   "codemirror_mode": {
    "name": "ipython",
    "version": 3
   },
   "file_extension": ".py",
   "mimetype": "text/x-python",
   "name": "python",
   "nbconvert_exporter": "python",
   "pygments_lexer": "ipython3",
   "version": "3.10.7"
  }
 },
 "nbformat": 4,
 "nbformat_minor": 5
}
